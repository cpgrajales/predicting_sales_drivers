{
 "cells": [
  {
   "cell_type": "code",
   "execution_count": 1,
   "metadata": {},
   "outputs": [],
   "source": [
    "import pandas as pd\n",
    "import numpy as np\n",
    "import seaborn as sns\n",
    "import matplotlib.pyplot as plt"
   ]
  },
  {
   "cell_type": "code",
   "execution_count": 2,
   "metadata": {},
   "outputs": [],
   "source": [
    "from sklearn.linear_model import LinearRegression \n",
    "from sklearn.model_selection import train_test_split\n",
    "\n",
    "# Ensemble Methods\n",
    "from sklearn.ensemble import RandomForestRegressor\n",
    "from sklearn.ensemble import GradientBoostingRegressor\n",
    "from sklearn.metrics import mean_squared_error as mse"
   ]
  },
  {
   "cell_type": "code",
   "execution_count": 3,
   "metadata": {},
   "outputs": [],
   "source": [
    "data = pd.read_csv('data/Sell-Out Data.csv', low_memory=False)"
   ]
  },
  {
   "cell_type": "code",
   "execution_count": 4,
   "metadata": {},
   "outputs": [
    {
     "data": {
      "text/html": [
       "<div>\n",
       "<style scoped>\n",
       "    .dataframe tbody tr th:only-of-type {\n",
       "        vertical-align: middle;\n",
       "    }\n",
       "\n",
       "    .dataframe tbody tr th {\n",
       "        vertical-align: top;\n",
       "    }\n",
       "\n",
       "    .dataframe thead th {\n",
       "        text-align: right;\n",
       "    }\n",
       "</style>\n",
       "<table border=\"1\" class=\"dataframe\">\n",
       "  <thead>\n",
       "    <tr style=\"text-align: right;\">\n",
       "      <th></th>\n",
       "      <th>UNIT</th>\n",
       "      <th>DEALER</th>\n",
       "      <th>CHANNEL</th>\n",
       "      <th>SALES CHANNEL</th>\n",
       "      <th>REGION</th>\n",
       "      <th>WEEK</th>\n",
       "      <th>MONTH</th>\n",
       "      <th>QUARTER</th>\n",
       "      <th>YEAR</th>\n",
       "      <th>BRAND</th>\n",
       "      <th>CAPACITY</th>\n",
       "      <th>COMPRESSOR</th>\n",
       "      <th>COMPANY</th>\n",
       "      <th>QUANTITY</th>\n",
       "    </tr>\n",
       "  </thead>\n",
       "  <tbody>\n",
       "    <tr>\n",
       "      <th>0</th>\n",
       "      <td>H-Wall</td>\n",
       "      <td>ABENSON</td>\n",
       "      <td>Modern Trade</td>\n",
       "      <td>Modern Trade</td>\n",
       "      <td>VISAYAS</td>\n",
       "      <td>Week 1-2018</td>\n",
       "      <td>Jan-18</td>\n",
       "      <td>Q1</td>\n",
       "      <td>2018</td>\n",
       "      <td>Carrier</td>\n",
       "      <td>2.0hp</td>\n",
       "      <td>Variable Speed</td>\n",
       "      <td>CSG</td>\n",
       "      <td>4</td>\n",
       "    </tr>\n",
       "    <tr>\n",
       "      <th>1</th>\n",
       "      <td>Wrac</td>\n",
       "      <td>ABENSON</td>\n",
       "      <td>Modern Trade</td>\n",
       "      <td>Modern Trade</td>\n",
       "      <td>VISAYAS</td>\n",
       "      <td>Week 1-2018</td>\n",
       "      <td>Jan-18</td>\n",
       "      <td>Q1</td>\n",
       "      <td>2018</td>\n",
       "      <td>Kelvinator</td>\n",
       "      <td>1.0hp</td>\n",
       "      <td>Fixed Speed</td>\n",
       "      <td>CSG</td>\n",
       "      <td>2</td>\n",
       "    </tr>\n",
       "    <tr>\n",
       "      <th>2</th>\n",
       "      <td>Wrac</td>\n",
       "      <td>ABENSON</td>\n",
       "      <td>Modern Trade</td>\n",
       "      <td>Modern Trade</td>\n",
       "      <td>VISAYAS</td>\n",
       "      <td>Week 1-2018</td>\n",
       "      <td>Jan-18</td>\n",
       "      <td>Q1</td>\n",
       "      <td>2018</td>\n",
       "      <td>Condura</td>\n",
       "      <td>1.0hp</td>\n",
       "      <td>Variable Speed</td>\n",
       "      <td>CSG</td>\n",
       "      <td>2</td>\n",
       "    </tr>\n",
       "    <tr>\n",
       "      <th>3</th>\n",
       "      <td>Wrac</td>\n",
       "      <td>ABENSON</td>\n",
       "      <td>Modern Trade</td>\n",
       "      <td>Modern Trade</td>\n",
       "      <td>VISAYAS</td>\n",
       "      <td>Week 1-2018</td>\n",
       "      <td>Jan-18</td>\n",
       "      <td>Q1</td>\n",
       "      <td>2018</td>\n",
       "      <td>Condura</td>\n",
       "      <td>1.0hp</td>\n",
       "      <td>Fixed Speed</td>\n",
       "      <td>CSG</td>\n",
       "      <td>2</td>\n",
       "    </tr>\n",
       "    <tr>\n",
       "      <th>4</th>\n",
       "      <td>Wrac</td>\n",
       "      <td>ABENSON</td>\n",
       "      <td>Modern Trade</td>\n",
       "      <td>Modern Trade</td>\n",
       "      <td>VISAYAS</td>\n",
       "      <td>Week 1-2018</td>\n",
       "      <td>Jan-18</td>\n",
       "      <td>Q1</td>\n",
       "      <td>2018</td>\n",
       "      <td>Condura</td>\n",
       "      <td>1.0hp</td>\n",
       "      <td>Fixed Speed</td>\n",
       "      <td>CSG</td>\n",
       "      <td>2</td>\n",
       "    </tr>\n",
       "  </tbody>\n",
       "</table>\n",
       "</div>"
      ],
      "text/plain": [
       "     UNIT   DEALER       CHANNEL SALES CHANNEL   REGION         WEEK   MONTH  \\\n",
       "0  H-Wall  ABENSON  Modern Trade  Modern Trade  VISAYAS  Week 1-2018  Jan-18   \n",
       "1    Wrac  ABENSON  Modern Trade  Modern Trade  VISAYAS  Week 1-2018  Jan-18   \n",
       "2    Wrac  ABENSON  Modern Trade  Modern Trade  VISAYAS  Week 1-2018  Jan-18   \n",
       "3    Wrac  ABENSON  Modern Trade  Modern Trade  VISAYAS  Week 1-2018  Jan-18   \n",
       "4    Wrac  ABENSON  Modern Trade  Modern Trade  VISAYAS  Week 1-2018  Jan-18   \n",
       "\n",
       "  QUARTER  YEAR       BRAND CAPACITY      COMPRESSOR COMPANY QUANTITY  \n",
       "0      Q1  2018     Carrier    2.0hp  Variable Speed     CSG       4   \n",
       "1      Q1  2018  Kelvinator    1.0hp     Fixed Speed     CSG       2   \n",
       "2      Q1  2018     Condura    1.0hp  Variable Speed     CSG       2   \n",
       "3      Q1  2018     Condura    1.0hp     Fixed Speed     CSG       2   \n",
       "4      Q1  2018     Condura    1.0hp     Fixed Speed     CSG       2   "
      ]
     },
     "execution_count": 4,
     "metadata": {},
     "output_type": "execute_result"
    }
   ],
   "source": [
    "data.head()"
   ]
  },
  {
   "cell_type": "code",
   "execution_count": 5,
   "metadata": {},
   "outputs": [
    {
     "data": {
      "text/plain": [
       "(347524, 14)"
      ]
     },
     "execution_count": 5,
     "metadata": {},
     "output_type": "execute_result"
    }
   ],
   "source": [
    "data.shape"
   ]
  },
  {
   "cell_type": "code",
   "execution_count": 6,
   "metadata": {},
   "outputs": [],
   "source": [
    "# Convert Quantity to numeric\n",
    "data['QUANTITY'] = pd.to_numeric(data['QUANTITY'], errors='coerce')\n",
    "\n",
    "# Drop empty values\n",
    "data.dropna(inplace=True)"
   ]
  },
  {
   "cell_type": "code",
   "execution_count": 7,
   "metadata": {},
   "outputs": [
    {
     "data": {
      "text/plain": [
       "<matplotlib.axes._subplots.AxesSubplot at 0x1a16a05690>"
      ]
     },
     "execution_count": 7,
     "metadata": {},
     "output_type": "execute_result"
    },
    {
     "data": {
      "image/png": "[encoded data removed]",
      "text/plain": [
       "<Figure size 432x288 with 1 Axes>"
      ]
     },
     "metadata": {
      "needs_background": "light"
     },
     "output_type": "display_data"
    }
   ],
   "source": [
    "sns.distplot(data.QUANTITY, kde=False)"
   ]
  },
  {
   "cell_type": "code",
   "execution_count": 8,
   "metadata": {},
   "outputs": [
    {
     "data": {
      "text/plain": [
       "count    347507.000000\n",
       "mean          4.520746\n",
       "std          12.405710\n",
       "min           0.000000\n",
       "10%           2.000000\n",
       "20%           2.000000\n",
       "30%           2.000000\n",
       "40%           2.000000\n",
       "50%           2.000000\n",
       "60%           2.000000\n",
       "70%           4.000000\n",
       "80%           4.000000\n",
       "90%           6.000000\n",
       "max         953.000000\n",
       "Name: QUANTITY, dtype: float64"
      ]
     },
     "execution_count": 8,
     "metadata": {},
     "output_type": "execute_result"
    }
   ],
   "source": [
    "data.QUANTITY.describe(np.arange(0.1, 1, 0.1))"
   ]
  },
  {
   "cell_type": "code",
   "execution_count": 9,
   "metadata": {},
   "outputs": [
    {
     "data": {
      "text/plain": [
       "count    347507.000000\n",
       "mean          4.520746\n",
       "std          12.405710\n",
       "min           0.000000\n",
       "1%            1.000000\n",
       "             ...      \n",
       "96%          15.000000\n",
       "97%          38.000000\n",
       "98%          38.000000\n",
       "99%          38.000000\n",
       "max         953.000000\n",
       "Name: QUANTITY, Length: 104, dtype: float64"
      ]
     },
     "execution_count": 9,
     "metadata": {},
     "output_type": "execute_result"
    }
   ],
   "source": [
    "data_quantity_quantiles = data.QUANTITY.describe(np.arange(0.01, 1, 0.01))\n",
    "data_quantity_quantiles"
   ]
  },
  {
   "cell_type": "markdown",
   "metadata": {},
   "source": [
    "### Data Cleaning"
   ]
  },
  {
   "cell_type": "code",
   "execution_count": 15,
   "metadata": {},
   "outputs": [],
   "source": [
    "# Remove 99th percentile\n",
    "new_data = data[(data['QUANTITY'] <= data_quantity_quantiles['99%']) &\n",
    "                (data['QUANTITY'] >= data_quantity_quantiles['1%'])]\n",
    "\n",
    "# Retain non-competitor data\n",
    "new_data = new_data[new_data['COMPANY'] != 'Competitors']\n",
    "\n",
    "# Only use window-type data\n",
    "new_data = new_data[new_data['UNIT'] != 'Wrac']"
   ]
  },
  {
   "cell_type": "code",
   "execution_count": 16,
   "metadata": {},
   "outputs": [
    {
     "data": {
      "text/plain": [
       "<matplotlib.axes._subplots.AxesSubplot at 0x1a170a8790>"
      ]
     },
     "execution_count": 16,
     "metadata": {},
     "output_type": "execute_result"
    },
    {
     "data": {
      "image/png": "[encoded data removed]",
      "text/plain": [
       "<Figure size 432x288 with 1 Axes>"
      ]
     },
     "metadata": {
      "needs_background": "light"
     },
     "output_type": "display_data"
    }
   ],
   "source": [
    "sns.distplot(new_data['QUANTITY'], kde=False)"
   ]
  },
  {
   "cell_type": "markdown",
   "metadata": {},
   "source": [
    "### Feature Engineering"
   ]
  },
  {
   "cell_type": "code",
   "execution_count": 17,
   "metadata": {},
   "outputs": [],
   "source": [
    "# Get Features\n",
    "features = new_data.drop(['QUANTITY', 'YEAR', 'WEEK', 'MONTH', 'QUARTER', 'YEAR', 'UNIT'], axis=1)\n",
    "\n",
    "# Dummify\n",
    "X = pd.get_dummies(features)\n",
    "\n",
    "# Get Targets\n",
    "y = new_data['QUANTITY']"
   ]
  },
  {
   "cell_type": "code",
   "execution_count": 18,
   "metadata": {},
   "outputs": [
    {
     "data": {
      "text/plain": [
       "((63023, 82), (63023,))"
      ]
     },
     "execution_count": 18,
     "metadata": {},
     "output_type": "execute_result"
    }
   ],
   "source": [
    "X.shape, y.shape"
   ]
  },
  {
   "cell_type": "markdown",
   "metadata": {},
   "source": [
    "### Modelling"
   ]
  },
  {
   "cell_type": "code",
   "execution_count": 19,
   "metadata": {},
   "outputs": [
    {
     "name": "stdout",
     "output_type": "stream",
     "text": [
      "CPU times: user 9.57 s, sys: 57.8 ms, total: 9.63 s\n",
      "Wall time: 9.91 s\n"
     ]
    },
    {
     "data": {
      "text/plain": [
       "RandomForestRegressor(bootstrap=True, criterion='mse', max_depth=None,\n",
       "                      max_features='auto', max_leaf_nodes=None,\n",
       "                      min_impurity_decrease=0.0, min_impurity_split=None,\n",
       "                      min_samples_leaf=1, min_samples_split=2,\n",
       "                      min_weight_fraction_leaf=0.0, n_estimators=100,\n",
       "                      n_jobs=None, oob_score=False, random_state=42, verbose=0,\n",
       "                      warm_start=False)"
      ]
     },
     "execution_count": 19,
     "metadata": {},
     "output_type": "execute_result"
    }
   ],
   "source": [
    "X_train, X_test, y_train, y_test = train_test_split(X, y, test_size = 0.4, random_state = 42)\n",
    "\n",
    "model = RandomForestRegressor(n_estimators=100, random_state=42)\n",
    "# model = GradientBoostingRegressor(n_estimators=300, random_state=42)\n",
    "\n",
    "# Fit Model\n",
    "%time model.fit(X_train, y_train)"
   ]
  },
  {
   "cell_type": "markdown",
   "metadata": {},
   "source": [
    "### Feature Importances"
   ]
  },
  {
   "cell_type": "code",
   "execution_count": 28,
   "metadata": {},
   "outputs": [
    {
     "data": {
      "text/plain": [
       "GMA                    114798\n",
       "NORTH CENTRAL LUZON     85451\n",
       "SOUTH LUZON             59651\n",
       "VISAYAS                 46269\n",
       "MINDANAO                41338\n",
       "Name: REGION, dtype: int64"
      ]
     },
     "execution_count": 28,
     "metadata": {},
     "output_type": "execute_result"
    }
   ],
   "source": [
    "data.REGION.value_counts()"
   ]
  },
  {
   "cell_type": "code",
   "execution_count": 20,
   "metadata": {},
   "outputs": [
    {
     "data": {
      "image/png": "[encoded data removed]",
      "text/plain": [
       "<Figure size 432x288 with 1 Axes>"
      ]
     },
     "metadata": {
      "needs_background": "light"
     },
     "output_type": "display_data"
    }
   ],
   "source": [
    "feature_importances_df = pd.DataFrame({\"Features\": X.columns,\n",
    "                                       \"Feature Importance\": model.feature_importances_}\n",
    "                                     ).sort_values('Feature Importance', ascending=False).set_index('Features')\n",
    "\n",
    "# Top 20 Features\n",
    "feature_importances_df[:20].plot(kind='barh')\n",
    "plt.gca().invert_yaxis()"
   ]
  },
  {
   "cell_type": "markdown",
   "metadata": {},
   "source": [
    "### RMSE"
   ]
  },
  {
   "cell_type": "code",
   "execution_count": 21,
   "metadata": {},
   "outputs": [],
   "source": [
    "# Train Predictions\n",
    "y_pred_train = model.predict(X_train).astype(int)\n",
    "\n",
    "# Test Predictions\n",
    "y_pred = model.predict(X_test).astype(int)\n",
    "\n",
    "# Train RMSE\n",
    "rmse_score_train = np.sqrt(mse(y_pred_train, y_train))\n",
    "\n",
    "# Test RMSE\n",
    "rmse_score = np.sqrt(mse(y_pred, y_test))"
   ]
  },
  {
   "cell_type": "code",
   "execution_count": 22,
   "metadata": {},
   "outputs": [
    {
     "data": {
      "text/plain": [
       "(2.4759053092469028, 2.2453859635956555)"
      ]
     },
     "execution_count": 22,
     "metadata": {},
     "output_type": "execute_result"
    }
   ],
   "source": [
    "rmse_score, rmse_score_train"
   ]
  },
  {
   "cell_type": "markdown",
   "metadata": {},
   "source": [
    "RMSE is pretty good."
   ]
  },
  {
   "cell_type": "markdown",
   "metadata": {},
   "source": [
    "### Compare Predictions from Actual Price"
   ]
  },
  {
   "cell_type": "code",
   "execution_count": 23,
   "metadata": {},
   "outputs": [],
   "source": [
    "prediction_real_df = pd.DataFrame({\"Real Sales Quantity\": y_test, \"Predicted Sales Quantity\": y_pred})"
   ]
  },
  {
   "cell_type": "code",
   "execution_count": 24,
   "metadata": {},
   "outputs": [
    {
     "data": {
      "text/plain": [
       "<matplotlib.axes._subplots.AxesSubplot at 0x115dff8d0>"
      ]
     },
     "execution_count": 24,
     "metadata": {},
     "output_type": "execute_result"
    },
    {
     "data": {
      "image/png": "[encoded data removed]",
      "text/plain": [
       "<Figure size 432x288 with 1 Axes>"
      ]
     },
     "metadata": {
      "needs_background": "light"
     },
     "output_type": "display_data"
    }
   ],
   "source": [
    "prediction_real_df.plot.scatter('Real Sales Quantity', 'Predicted Sales Quantity')"
   ]
  },
  {
   "cell_type": "markdown",
   "metadata": {},
   "source": [
    "Predictions are pretty conservative, meaning, they are generally predicting low sale count."
   ]
  },
  {
   "cell_type": "markdown",
   "metadata": {},
   "source": [
    "### Another Metric"
   ]
  },
  {
   "cell_type": "code",
   "execution_count": 25,
   "metadata": {},
   "outputs": [],
   "source": [
    "def mean_absolute_percentage_error(y_true, y_pred): \n",
    "    y_true, y_pred = np.array(y_true), np.array(y_pred)\n",
    "    return np.mean(np.abs((y_true - y_pred) / y_true)) * 100"
   ]
  },
  {
   "cell_type": "code",
   "execution_count": 26,
   "metadata": {},
   "outputs": [
    {
     "data": {
      "text/plain": [
       "9.60421494657581"
      ]
     },
     "execution_count": 26,
     "metadata": {},
     "output_type": "execute_result"
    }
   ],
   "source": [
    "mape = mean_absolute_percentage_error(y_test, y_pred)\n",
    "mape"
   ]
  }
 ],
 "metadata": {
  "kernelspec": {
   "display_name": "Python 3",
   "language": "python",
   "name": "python3"
  },
  "language_info": {
   "codemirror_mode": {
    "name": "ipython",
    "version": 3
   },
   "file_extension": ".py",
   "mimetype": "text/x-python",
   "name": "python",
   "nbconvert_exporter": "python",
   "pygments_lexer": "ipython3",
   "version": "3.7.4"
  }
 },
 "nbformat": 4,
 "nbformat_minor": 4
}
