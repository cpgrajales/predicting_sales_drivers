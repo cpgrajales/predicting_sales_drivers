{
 "cells": [
  {
   "cell_type": "code",
   "execution_count": 1,
   "metadata": {},
   "outputs": [],
   "source": [
    "import pandas as pd\n",
    "import numpy as np\n",
    "import seaborn as sns\n",
    "import matplotlib.pyplot as plt"
   ]
  },
  {
   "cell_type": "code",
   "execution_count": 2,
   "metadata": {},
   "outputs": [],
   "source": [
    "from sklearn.linear_model import LinearRegression \n",
    "from sklearn.model_selection import train_test_split\n",
    "\n",
    "# Ensemble Methods\n",
    "from sklearn.ensemble import RandomForestRegressor\n",
    "from sklearn.ensemble import GradientBoostingRegressor\n",
    "from sklearn.metrics import mean_squared_error as mse"
   ]
  },
  {
   "cell_type": "code",
   "execution_count": 104,
   "metadata": {},
   "outputs": [],
   "source": [
    "pd.options.display.max_rows = 999\n",
    "pd.options.display.max_columns = 999"
   ]
  },
  {
   "cell_type": "code",
   "execution_count": 105,
   "metadata": {},
   "outputs": [],
   "source": [
    "data = pd.read_csv('data/Sell-Out Data.csv', low_memory=False, thousands=',')"
   ]
  },
  {
   "cell_type": "code",
   "execution_count": 106,
   "metadata": {},
   "outputs": [
    {
     "data": {
      "text/html": [
       "<div>\n",
       "<style scoped>\n",
       "    .dataframe tbody tr th:only-of-type {\n",
       "        vertical-align: middle;\n",
       "    }\n",
       "\n",
       "    .dataframe tbody tr th {\n",
       "        vertical-align: top;\n",
       "    }\n",
       "\n",
       "    .dataframe thead th {\n",
       "        text-align: right;\n",
       "    }\n",
       "</style>\n",
       "<table border=\"1\" class=\"dataframe\">\n",
       "  <thead>\n",
       "    <tr style=\"text-align: right;\">\n",
       "      <th></th>\n",
       "      <th>UNIT</th>\n",
       "      <th>DEALER</th>\n",
       "      <th>CHANNEL</th>\n",
       "      <th>SALES CHANNEL</th>\n",
       "      <th>REGION</th>\n",
       "      <th>WEEK</th>\n",
       "      <th>MONTH</th>\n",
       "      <th>QUARTER</th>\n",
       "      <th>YEAR</th>\n",
       "      <th>BRAND</th>\n",
       "      <th>CAPACITY</th>\n",
       "      <th>COMPRESSOR</th>\n",
       "      <th>COMPANY</th>\n",
       "      <th>QUANTITY</th>\n",
       "    </tr>\n",
       "  </thead>\n",
       "  <tbody>\n",
       "    <tr>\n",
       "      <td>0</td>\n",
       "      <td>H-Wall</td>\n",
       "      <td>ABENSON</td>\n",
       "      <td>Modern Trade</td>\n",
       "      <td>Modern Trade</td>\n",
       "      <td>VISAYAS</td>\n",
       "      <td>Week 1-2018</td>\n",
       "      <td>Jan-18</td>\n",
       "      <td>Q1</td>\n",
       "      <td>2018</td>\n",
       "      <td>Carrier</td>\n",
       "      <td>2.0hp</td>\n",
       "      <td>Variable Speed</td>\n",
       "      <td>CSG</td>\n",
       "      <td>4</td>\n",
       "    </tr>\n",
       "    <tr>\n",
       "      <td>1</td>\n",
       "      <td>Wrac</td>\n",
       "      <td>ABENSON</td>\n",
       "      <td>Modern Trade</td>\n",
       "      <td>Modern Trade</td>\n",
       "      <td>VISAYAS</td>\n",
       "      <td>Week 1-2018</td>\n",
       "      <td>Jan-18</td>\n",
       "      <td>Q1</td>\n",
       "      <td>2018</td>\n",
       "      <td>Kelvinator</td>\n",
       "      <td>1.0hp</td>\n",
       "      <td>Fixed Speed</td>\n",
       "      <td>CSG</td>\n",
       "      <td>2</td>\n",
       "    </tr>\n",
       "    <tr>\n",
       "      <td>2</td>\n",
       "      <td>Wrac</td>\n",
       "      <td>ABENSON</td>\n",
       "      <td>Modern Trade</td>\n",
       "      <td>Modern Trade</td>\n",
       "      <td>VISAYAS</td>\n",
       "      <td>Week 1-2018</td>\n",
       "      <td>Jan-18</td>\n",
       "      <td>Q1</td>\n",
       "      <td>2018</td>\n",
       "      <td>Condura</td>\n",
       "      <td>1.0hp</td>\n",
       "      <td>Variable Speed</td>\n",
       "      <td>CSG</td>\n",
       "      <td>2</td>\n",
       "    </tr>\n",
       "    <tr>\n",
       "      <td>3</td>\n",
       "      <td>Wrac</td>\n",
       "      <td>ABENSON</td>\n",
       "      <td>Modern Trade</td>\n",
       "      <td>Modern Trade</td>\n",
       "      <td>VISAYAS</td>\n",
       "      <td>Week 1-2018</td>\n",
       "      <td>Jan-18</td>\n",
       "      <td>Q1</td>\n",
       "      <td>2018</td>\n",
       "      <td>Condura</td>\n",
       "      <td>1.0hp</td>\n",
       "      <td>Fixed Speed</td>\n",
       "      <td>CSG</td>\n",
       "      <td>2</td>\n",
       "    </tr>\n",
       "    <tr>\n",
       "      <td>4</td>\n",
       "      <td>Wrac</td>\n",
       "      <td>ABENSON</td>\n",
       "      <td>Modern Trade</td>\n",
       "      <td>Modern Trade</td>\n",
       "      <td>VISAYAS</td>\n",
       "      <td>Week 1-2018</td>\n",
       "      <td>Jan-18</td>\n",
       "      <td>Q1</td>\n",
       "      <td>2018</td>\n",
       "      <td>Condura</td>\n",
       "      <td>1.0hp</td>\n",
       "      <td>Fixed Speed</td>\n",
       "      <td>CSG</td>\n",
       "      <td>2</td>\n",
       "    </tr>\n",
       "  </tbody>\n",
       "</table>\n",
       "</div>"
      ],
      "text/plain": [
       "     UNIT   DEALER       CHANNEL SALES CHANNEL   REGION         WEEK   MONTH  \\\n",
       "0  H-Wall  ABENSON  Modern Trade  Modern Trade  VISAYAS  Week 1-2018  Jan-18   \n",
       "1    Wrac  ABENSON  Modern Trade  Modern Trade  VISAYAS  Week 1-2018  Jan-18   \n",
       "2    Wrac  ABENSON  Modern Trade  Modern Trade  VISAYAS  Week 1-2018  Jan-18   \n",
       "3    Wrac  ABENSON  Modern Trade  Modern Trade  VISAYAS  Week 1-2018  Jan-18   \n",
       "4    Wrac  ABENSON  Modern Trade  Modern Trade  VISAYAS  Week 1-2018  Jan-18   \n",
       "\n",
       "  QUARTER  YEAR       BRAND CAPACITY      COMPRESSOR COMPANY  QUANTITY  \n",
       "0      Q1  2018     Carrier    2.0hp  Variable Speed     CSG         4  \n",
       "1      Q1  2018  Kelvinator    1.0hp     Fixed Speed     CSG         2  \n",
       "2      Q1  2018     Condura    1.0hp  Variable Speed     CSG         2  \n",
       "3      Q1  2018     Condura    1.0hp     Fixed Speed     CSG         2  \n",
       "4      Q1  2018     Condura    1.0hp     Fixed Speed     CSG         2  "
      ]
     },
     "execution_count": 106,
     "metadata": {},
     "output_type": "execute_result"
    }
   ],
   "source": [
    "data.head()"
   ]
  },
  {
   "cell_type": "code",
   "execution_count": 5,
   "metadata": {},
   "outputs": [
    {
     "data": {
      "text/plain": [
       "(347524, 14)"
      ]
     },
     "execution_count": 5,
     "metadata": {},
     "output_type": "execute_result"
    }
   ],
   "source": [
    "data.shape"
   ]
  },
  {
   "cell_type": "code",
   "execution_count": 6,
   "metadata": {},
   "outputs": [
    {
     "data": {
      "text/plain": [
       "UNIT             object\n",
       "DEALER           object\n",
       "CHANNEL          object\n",
       "SALES CHANNEL    object\n",
       "REGION           object\n",
       "WEEK             object\n",
       "MONTH            object\n",
       "QUARTER          object\n",
       "YEAR              int64\n",
       "BRAND            object\n",
       "CAPACITY         object\n",
       "COMPRESSOR       object\n",
       "COMPANY          object\n",
       "QUANTITY          int64\n",
       "dtype: object"
      ]
     },
     "execution_count": 6,
     "metadata": {},
     "output_type": "execute_result"
    }
   ],
   "source": [
    "data.dtypes"
   ]
  },
  {
   "cell_type": "code",
   "execution_count": 7,
   "metadata": {},
   "outputs": [
    {
     "data": {
      "text/html": [
       "<div>\n",
       "<style scoped>\n",
       "    .dataframe tbody tr th:only-of-type {\n",
       "        vertical-align: middle;\n",
       "    }\n",
       "\n",
       "    .dataframe tbody tr th {\n",
       "        vertical-align: top;\n",
       "    }\n",
       "\n",
       "    .dataframe thead th {\n",
       "        text-align: right;\n",
       "    }\n",
       "</style>\n",
       "<table border=\"1\" class=\"dataframe\">\n",
       "  <thead>\n",
       "    <tr style=\"text-align: right;\">\n",
       "      <th></th>\n",
       "      <th>YEAR</th>\n",
       "      <th>QUANTITY</th>\n",
       "    </tr>\n",
       "  </thead>\n",
       "  <tbody>\n",
       "    <tr>\n",
       "      <td>count</td>\n",
       "      <td>347524.0</td>\n",
       "      <td>347524.000000</td>\n",
       "    </tr>\n",
       "    <tr>\n",
       "      <td>mean</td>\n",
       "      <td>2018.0</td>\n",
       "      <td>4.588610</td>\n",
       "    </tr>\n",
       "    <tr>\n",
       "      <td>std</td>\n",
       "      <td>0.0</td>\n",
       "      <td>15.963357</td>\n",
       "    </tr>\n",
       "    <tr>\n",
       "      <td>min</td>\n",
       "      <td>2018.0</td>\n",
       "      <td>0.000000</td>\n",
       "    </tr>\n",
       "    <tr>\n",
       "      <td>25%</td>\n",
       "      <td>2018.0</td>\n",
       "      <td>2.000000</td>\n",
       "    </tr>\n",
       "    <tr>\n",
       "      <td>50%</td>\n",
       "      <td>2018.0</td>\n",
       "      <td>2.000000</td>\n",
       "    </tr>\n",
       "    <tr>\n",
       "      <td>75%</td>\n",
       "      <td>2018.0</td>\n",
       "      <td>4.000000</td>\n",
       "    </tr>\n",
       "    <tr>\n",
       "      <td>max</td>\n",
       "      <td>2018.0</td>\n",
       "      <td>2287.000000</td>\n",
       "    </tr>\n",
       "  </tbody>\n",
       "</table>\n",
       "</div>"
      ],
      "text/plain": [
       "           YEAR       QUANTITY\n",
       "count  347524.0  347524.000000\n",
       "mean     2018.0       4.588610\n",
       "std         0.0      15.963357\n",
       "min      2018.0       0.000000\n",
       "25%      2018.0       2.000000\n",
       "50%      2018.0       2.000000\n",
       "75%      2018.0       4.000000\n",
       "max      2018.0    2287.000000"
      ]
     },
     "execution_count": 7,
     "metadata": {},
     "output_type": "execute_result"
    }
   ],
   "source": [
    "data.describe()"
   ]
  },
  {
   "cell_type": "code",
   "execution_count": 8,
   "metadata": {},
   "outputs": [],
   "source": [
    "# Convert Quantity to numeric\n",
    "data['QUANTITY'] = pd.to_numeric(data['QUANTITY'], errors='coerce')\n",
    "\n",
    "# Drop empty values\n",
    "data.dropna(inplace=True)"
   ]
  },
  {
   "cell_type": "code",
   "execution_count": 9,
   "metadata": {},
   "outputs": [
    {
     "data": {
      "text/plain": [
       "<matplotlib.axes._subplots.AxesSubplot at 0x1a1be4ff10>"
      ]
     },
     "execution_count": 9,
     "metadata": {},
     "output_type": "execute_result"
    },
    {
     "data": {
      "image/png": "[encoded data removed]",
      "text/plain": [
       "<Figure size 432x288 with 1 Axes>"
      ]
     },
     "metadata": {
      "needs_background": "light"
     },
     "output_type": "display_data"
    }
   ],
   "source": [
    "sns.distplot(data.QUANTITY, kde=False)"
   ]
  },
  {
   "cell_type": "code",
   "execution_count": 10,
   "metadata": {},
   "outputs": [
    {
     "data": {
      "text/plain": [
       "count    347524.000000\n",
       "mean          4.588610\n",
       "std          15.963357\n",
       "min           0.000000\n",
       "10%           2.000000\n",
       "20%           2.000000\n",
       "30%           2.000000\n",
       "40%           2.000000\n",
       "50%           2.000000\n",
       "60%           2.000000\n",
       "70%           4.000000\n",
       "80%           4.000000\n",
       "90%           6.000000\n",
       "max        2287.000000\n",
       "Name: QUANTITY, dtype: float64"
      ]
     },
     "execution_count": 10,
     "metadata": {},
     "output_type": "execute_result"
    }
   ],
   "source": [
    "data.QUANTITY.describe(np.arange(0.1, 1, 0.1))"
   ]
  },
  {
   "cell_type": "code",
   "execution_count": 11,
   "metadata": {},
   "outputs": [
    {
     "data": {
      "text/plain": [
       "count    347524.000000\n",
       "mean          4.588610\n",
       "std          15.963357\n",
       "min           0.000000\n",
       "1%            1.000000\n",
       "             ...      \n",
       "96%          15.000000\n",
       "97%          38.000000\n",
       "98%          38.000000\n",
       "99%          38.000000\n",
       "max        2287.000000\n",
       "Name: QUANTITY, Length: 104, dtype: float64"
      ]
     },
     "execution_count": 11,
     "metadata": {},
     "output_type": "execute_result"
    }
   ],
   "source": [
    "data_quantity_quantiles = data.QUANTITY.describe(np.arange(0.01, 1, 0.01))\n",
    "data_quantity_quantiles"
   ]
  },
  {
   "cell_type": "code",
   "execution_count": 12,
   "metadata": {},
   "outputs": [
    {
     "data": {
      "text/plain": [
       "38.0"
      ]
     },
     "execution_count": 12,
     "metadata": {},
     "output_type": "execute_result"
    }
   ],
   "source": [
    "data_quantity_quantiles['99%']"
   ]
  },
  {
   "cell_type": "markdown",
   "metadata": {},
   "source": [
    "### Data Cleaning"
   ]
  },
  {
   "cell_type": "code",
   "execution_count": 14,
   "metadata": {},
   "outputs": [],
   "source": [
    "# Remove 99th percentile\n",
    "# new_data = data[(data['QUANTITY'] <= data_quantity_quantiles['99%']) &\n",
    "#                 (data['QUANTITY'] >= data_quantity_quantiles['1%'])]\n",
    "\n",
    "# # Retain non-competitor data\n",
    "# new_data = new_data[new_data['COMPANY'] != 'Competitors']\n",
    "new_data = data[data['COMPANY'] != 'Competitors']"
   ]
  },
  {
   "cell_type": "code",
   "execution_count": 15,
   "metadata": {
    "collapsed": true,
    "jupyter": {
     "outputs_hidden": true
    }
   },
   "outputs": [
    {
     "data": {
      "text/plain": [
       "<matplotlib.axes._subplots.AxesSubplot at 0x1a1d51f890>"
      ]
     },
     "execution_count": 15,
     "metadata": {},
     "output_type": "execute_result"
    },
    {
     "data": {
      "image/png": "[encoded data removed]",
      "text/plain": [
       "<Figure size 432x288 with 1 Axes>"
      ]
     },
     "metadata": {
      "needs_background": "light"
     },
     "output_type": "display_data"
    }
   ],
   "source": [
    "sns.distplot(new_data['QUANTITY'], kde=False)"
   ]
  },
  {
   "cell_type": "markdown",
   "metadata": {},
   "source": [
    "### EDA"
   ]
  },
  {
   "cell_type": "code",
   "execution_count": 30,
   "metadata": {},
   "outputs": [
    {
     "data": {
      "text/html": [
       "<div>\n",
       "<style scoped>\n",
       "    .dataframe tbody tr th:only-of-type {\n",
       "        vertical-align: middle;\n",
       "    }\n",
       "\n",
       "    .dataframe tbody tr th {\n",
       "        vertical-align: top;\n",
       "    }\n",
       "\n",
       "    .dataframe thead th {\n",
       "        text-align: right;\n",
       "    }\n",
       "</style>\n",
       "<table border=\"1\" class=\"dataframe\">\n",
       "  <thead>\n",
       "    <tr style=\"text-align: right;\">\n",
       "      <th></th>\n",
       "      <th>BRAND</th>\n",
       "      <th>UNIT</th>\n",
       "      <th>CAPACITY</th>\n",
       "      <th>COMPRESSOR</th>\n",
       "    </tr>\n",
       "  </thead>\n",
       "  <tbody>\n",
       "    <tr>\n",
       "      <td>281</td>\n",
       "      <td>Carrier</td>\n",
       "      <td>H-Wall</td>\n",
       "      <td>1.0hp</td>\n",
       "      <td>Fixed Speed</td>\n",
       "    </tr>\n",
       "    <tr>\n",
       "      <td>8</td>\n",
       "      <td>Carrier</td>\n",
       "      <td>H-Wall</td>\n",
       "      <td>1.0hp</td>\n",
       "      <td>Variable Speed</td>\n",
       "    </tr>\n",
       "    <tr>\n",
       "      <td>148</td>\n",
       "      <td>Carrier</td>\n",
       "      <td>H-Wall</td>\n",
       "      <td>1.5hp</td>\n",
       "      <td>Fixed Speed</td>\n",
       "    </tr>\n",
       "    <tr>\n",
       "      <td>62</td>\n",
       "      <td>Carrier</td>\n",
       "      <td>H-Wall</td>\n",
       "      <td>1.5hp</td>\n",
       "      <td>Variable Speed</td>\n",
       "    </tr>\n",
       "    <tr>\n",
       "      <td>202</td>\n",
       "      <td>Carrier</td>\n",
       "      <td>H-Wall</td>\n",
       "      <td>2.0hp</td>\n",
       "      <td>Fixed Speed</td>\n",
       "    </tr>\n",
       "    <tr>\n",
       "      <td>0</td>\n",
       "      <td>Carrier</td>\n",
       "      <td>H-Wall</td>\n",
       "      <td>2.0hp</td>\n",
       "      <td>Variable Speed</td>\n",
       "    </tr>\n",
       "    <tr>\n",
       "      <td>23</td>\n",
       "      <td>Carrier</td>\n",
       "      <td>H-Wall</td>\n",
       "      <td>2.5hp</td>\n",
       "      <td>Fixed Speed</td>\n",
       "    </tr>\n",
       "    <tr>\n",
       "      <td>14</td>\n",
       "      <td>Carrier</td>\n",
       "      <td>H-Wall</td>\n",
       "      <td>2.5hp</td>\n",
       "      <td>Variable Speed</td>\n",
       "    </tr>\n",
       "    <tr>\n",
       "      <td>3438</td>\n",
       "      <td>Carrier</td>\n",
       "      <td>H-Wall</td>\n",
       "      <td>3.0hp</td>\n",
       "      <td>Fixed Speed</td>\n",
       "    </tr>\n",
       "    <tr>\n",
       "      <td>88</td>\n",
       "      <td>Carrier</td>\n",
       "      <td>H-Wall</td>\n",
       "      <td>3.0hp</td>\n",
       "      <td>Variable Speed</td>\n",
       "    </tr>\n",
       "    <tr>\n",
       "      <td>34040</td>\n",
       "      <td>Carrier</td>\n",
       "      <td>PE</td>\n",
       "      <td>10Tons</td>\n",
       "      <td>Fixed Speed</td>\n",
       "    </tr>\n",
       "    <tr>\n",
       "      <td>230260</td>\n",
       "      <td>Carrier</td>\n",
       "      <td>PE</td>\n",
       "      <td>12Tons</td>\n",
       "      <td>Fixed Speed</td>\n",
       "    </tr>\n",
       "    <tr>\n",
       "      <td>15146</td>\n",
       "      <td>Carrier</td>\n",
       "      <td>PE</td>\n",
       "      <td>2.0Tons</td>\n",
       "      <td>Fixed Speed</td>\n",
       "    </tr>\n",
       "    <tr>\n",
       "      <td>11071</td>\n",
       "      <td>Carrier</td>\n",
       "      <td>PE</td>\n",
       "      <td>2.0Tons</td>\n",
       "      <td>Variable Speed</td>\n",
       "    </tr>\n",
       "    <tr>\n",
       "      <td>48078</td>\n",
       "      <td>Carrier</td>\n",
       "      <td>PE</td>\n",
       "      <td>2.5Tons</td>\n",
       "      <td>Fixed Speed</td>\n",
       "    </tr>\n",
       "    <tr>\n",
       "      <td>782</td>\n",
       "      <td>Carrier</td>\n",
       "      <td>PE</td>\n",
       "      <td>2.5Tons</td>\n",
       "      <td>Variable Speed</td>\n",
       "    </tr>\n",
       "    <tr>\n",
       "      <td>15</td>\n",
       "      <td>Carrier</td>\n",
       "      <td>PE</td>\n",
       "      <td>3Tons</td>\n",
       "      <td>Fixed Speed</td>\n",
       "    </tr>\n",
       "    <tr>\n",
       "      <td>99</td>\n",
       "      <td>Carrier</td>\n",
       "      <td>PE</td>\n",
       "      <td>3Tons</td>\n",
       "      <td>Variable Speed</td>\n",
       "    </tr>\n",
       "    <tr>\n",
       "      <td>23527</td>\n",
       "      <td>Carrier</td>\n",
       "      <td>PE</td>\n",
       "      <td>4Tons</td>\n",
       "      <td>Fixed Speed</td>\n",
       "    </tr>\n",
       "    <tr>\n",
       "      <td>364</td>\n",
       "      <td>Carrier</td>\n",
       "      <td>PE</td>\n",
       "      <td>4Tons</td>\n",
       "      <td>Variable Speed</td>\n",
       "    </tr>\n",
       "    <tr>\n",
       "      <td>269</td>\n",
       "      <td>Carrier</td>\n",
       "      <td>PE</td>\n",
       "      <td>5Tons</td>\n",
       "      <td>Fixed Speed</td>\n",
       "    </tr>\n",
       "    <tr>\n",
       "      <td>10383</td>\n",
       "      <td>Carrier</td>\n",
       "      <td>PE</td>\n",
       "      <td>5Tons</td>\n",
       "      <td>Variable Speed</td>\n",
       "    </tr>\n",
       "    <tr>\n",
       "      <td>19709</td>\n",
       "      <td>Carrier</td>\n",
       "      <td>PE</td>\n",
       "      <td>7.5Tons</td>\n",
       "      <td>Fixed Speed</td>\n",
       "    </tr>\n",
       "    <tr>\n",
       "      <td>291252</td>\n",
       "      <td>Carrier</td>\n",
       "      <td>PE</td>\n",
       "      <td>9Tons</td>\n",
       "      <td>Fixed Speed</td>\n",
       "    </tr>\n",
       "    <tr>\n",
       "      <td>9</td>\n",
       "      <td>Carrier</td>\n",
       "      <td>Wrac</td>\n",
       "      <td>0.5hp</td>\n",
       "      <td>Fixed Speed</td>\n",
       "    </tr>\n",
       "    <tr>\n",
       "      <td>13</td>\n",
       "      <td>Carrier</td>\n",
       "      <td>Wrac</td>\n",
       "      <td>0.75hp</td>\n",
       "      <td>Fixed Speed</td>\n",
       "    </tr>\n",
       "    <tr>\n",
       "      <td>7</td>\n",
       "      <td>Carrier</td>\n",
       "      <td>Wrac</td>\n",
       "      <td>1.0hp</td>\n",
       "      <td>Fixed Speed</td>\n",
       "    </tr>\n",
       "    <tr>\n",
       "      <td>92</td>\n",
       "      <td>Carrier</td>\n",
       "      <td>Wrac</td>\n",
       "      <td>1.0hp</td>\n",
       "      <td>Variable Speed</td>\n",
       "    </tr>\n",
       "    <tr>\n",
       "      <td>41</td>\n",
       "      <td>Carrier</td>\n",
       "      <td>Wrac</td>\n",
       "      <td>1.5hp</td>\n",
       "      <td>Fixed Speed</td>\n",
       "    </tr>\n",
       "    <tr>\n",
       "      <td>81</td>\n",
       "      <td>Carrier</td>\n",
       "      <td>Wrac</td>\n",
       "      <td>1.5hp</td>\n",
       "      <td>Variable Speed</td>\n",
       "    </tr>\n",
       "    <tr>\n",
       "      <td>32</td>\n",
       "      <td>Carrier</td>\n",
       "      <td>Wrac</td>\n",
       "      <td>2.0hp</td>\n",
       "      <td>Fixed Speed</td>\n",
       "    </tr>\n",
       "    <tr>\n",
       "      <td>97</td>\n",
       "      <td>Carrier</td>\n",
       "      <td>Wrac</td>\n",
       "      <td>2.0hp</td>\n",
       "      <td>Variable Speed</td>\n",
       "    </tr>\n",
       "    <tr>\n",
       "      <td>437</td>\n",
       "      <td>Carrier</td>\n",
       "      <td>Wrac</td>\n",
       "      <td>2.5hp</td>\n",
       "      <td>Fixed Speed</td>\n",
       "    </tr>\n",
       "  </tbody>\n",
       "</table>\n",
       "</div>"
      ],
      "text/plain": [
       "          BRAND    UNIT CAPACITY      COMPRESSOR\n",
       "281     Carrier  H-Wall    1.0hp     Fixed Speed\n",
       "8       Carrier  H-Wall    1.0hp  Variable Speed\n",
       "148     Carrier  H-Wall    1.5hp     Fixed Speed\n",
       "62      Carrier  H-Wall    1.5hp  Variable Speed\n",
       "202     Carrier  H-Wall    2.0hp     Fixed Speed\n",
       "0       Carrier  H-Wall    2.0hp  Variable Speed\n",
       "23      Carrier  H-Wall    2.5hp     Fixed Speed\n",
       "14      Carrier  H-Wall    2.5hp  Variable Speed\n",
       "3438    Carrier  H-Wall    3.0hp     Fixed Speed\n",
       "88      Carrier  H-Wall    3.0hp  Variable Speed\n",
       "34040   Carrier      PE   10Tons     Fixed Speed\n",
       "230260  Carrier      PE   12Tons     Fixed Speed\n",
       "15146   Carrier      PE  2.0Tons     Fixed Speed\n",
       "11071   Carrier      PE  2.0Tons  Variable Speed\n",
       "48078   Carrier      PE  2.5Tons     Fixed Speed\n",
       "782     Carrier      PE  2.5Tons  Variable Speed\n",
       "15      Carrier      PE    3Tons     Fixed Speed\n",
       "99      Carrier      PE    3Tons  Variable Speed\n",
       "23527   Carrier      PE    4Tons     Fixed Speed\n",
       "364     Carrier      PE    4Tons  Variable Speed\n",
       "269     Carrier      PE    5Tons     Fixed Speed\n",
       "10383   Carrier      PE    5Tons  Variable Speed\n",
       "19709   Carrier      PE  7.5Tons     Fixed Speed\n",
       "291252  Carrier      PE    9Tons     Fixed Speed\n",
       "9       Carrier    Wrac    0.5hp     Fixed Speed\n",
       "13      Carrier    Wrac   0.75hp     Fixed Speed\n",
       "7       Carrier    Wrac    1.0hp     Fixed Speed\n",
       "92      Carrier    Wrac    1.0hp  Variable Speed\n",
       "41      Carrier    Wrac    1.5hp     Fixed Speed\n",
       "81      Carrier    Wrac    1.5hp  Variable Speed\n",
       "32      Carrier    Wrac    2.0hp     Fixed Speed\n",
       "97      Carrier    Wrac    2.0hp  Variable Speed\n",
       "437     Carrier    Wrac    2.5hp     Fixed Speed"
      ]
     },
     "execution_count": 30,
     "metadata": {},
     "output_type": "execute_result"
    }
   ],
   "source": [
    "# For each brand in the dataset, what types of unit, capacity and compressor are there?\n",
    "unique_acs = new_data[['BRAND', 'UNIT', 'CAPACITY', 'COMPRESSOR']].drop_duplicates()\n",
    "\n",
    "# Carrier\n",
    "unique_acs[unique_acs['BRAND']=='Carrier'].sort_values(['UNIT', 'CAPACITY', 'COMPRESSOR'])"
   ]
  },
  {
   "cell_type": "code",
   "execution_count": 31,
   "metadata": {},
   "outputs": [
    {
     "data": {
      "text/html": [
       "<div>\n",
       "<style scoped>\n",
       "    .dataframe tbody tr th:only-of-type {\n",
       "        vertical-align: middle;\n",
       "    }\n",
       "\n",
       "    .dataframe tbody tr th {\n",
       "        vertical-align: top;\n",
       "    }\n",
       "\n",
       "    .dataframe thead th {\n",
       "        text-align: right;\n",
       "    }\n",
       "</style>\n",
       "<table border=\"1\" class=\"dataframe\">\n",
       "  <thead>\n",
       "    <tr style=\"text-align: right;\">\n",
       "      <th></th>\n",
       "      <th>BRAND</th>\n",
       "      <th>UNIT</th>\n",
       "      <th>CAPACITY</th>\n",
       "      <th>COMPRESSOR</th>\n",
       "    </tr>\n",
       "  </thead>\n",
       "  <tbody>\n",
       "    <tr>\n",
       "      <td>294</td>\n",
       "      <td>Condura</td>\n",
       "      <td>H-Wall</td>\n",
       "      <td>1.0hp</td>\n",
       "      <td>Fixed Speed</td>\n",
       "    </tr>\n",
       "    <tr>\n",
       "      <td>110</td>\n",
       "      <td>Condura</td>\n",
       "      <td>H-Wall</td>\n",
       "      <td>1.0hp</td>\n",
       "      <td>Variable Speed</td>\n",
       "    </tr>\n",
       "    <tr>\n",
       "      <td>61</td>\n",
       "      <td>Condura</td>\n",
       "      <td>H-Wall</td>\n",
       "      <td>1.5hp</td>\n",
       "      <td>Fixed Speed</td>\n",
       "    </tr>\n",
       "    <tr>\n",
       "      <td>111</td>\n",
       "      <td>Condura</td>\n",
       "      <td>H-Wall</td>\n",
       "      <td>1.5hp</td>\n",
       "      <td>Variable Speed</td>\n",
       "    </tr>\n",
       "    <tr>\n",
       "      <td>503</td>\n",
       "      <td>Condura</td>\n",
       "      <td>H-Wall</td>\n",
       "      <td>2.0hp</td>\n",
       "      <td>Fixed Speed</td>\n",
       "    </tr>\n",
       "    <tr>\n",
       "      <td>112</td>\n",
       "      <td>Condura</td>\n",
       "      <td>H-Wall</td>\n",
       "      <td>2.0hp</td>\n",
       "      <td>Variable Speed</td>\n",
       "    </tr>\n",
       "    <tr>\n",
       "      <td>89</td>\n",
       "      <td>Condura</td>\n",
       "      <td>H-Wall</td>\n",
       "      <td>2.5hp</td>\n",
       "      <td>Fixed Speed</td>\n",
       "    </tr>\n",
       "    <tr>\n",
       "      <td>421</td>\n",
       "      <td>Condura</td>\n",
       "      <td>H-Wall</td>\n",
       "      <td>2.5hp</td>\n",
       "      <td>Variable Speed</td>\n",
       "    </tr>\n",
       "    <tr>\n",
       "      <td>144722</td>\n",
       "      <td>Condura</td>\n",
       "      <td>PE</td>\n",
       "      <td>2.0Tons</td>\n",
       "      <td>Fixed Speed</td>\n",
       "    </tr>\n",
       "    <tr>\n",
       "      <td>6202</td>\n",
       "      <td>Condura</td>\n",
       "      <td>PE</td>\n",
       "      <td>3Tons</td>\n",
       "      <td>Fixed Speed</td>\n",
       "    </tr>\n",
       "    <tr>\n",
       "      <td>10</td>\n",
       "      <td>Condura</td>\n",
       "      <td>Wrac</td>\n",
       "      <td>0.5hp</td>\n",
       "      <td>Fixed Speed</td>\n",
       "    </tr>\n",
       "    <tr>\n",
       "      <td>30</td>\n",
       "      <td>Condura</td>\n",
       "      <td>Wrac</td>\n",
       "      <td>0.75hp</td>\n",
       "      <td>Fixed Speed</td>\n",
       "    </tr>\n",
       "    <tr>\n",
       "      <td>3</td>\n",
       "      <td>Condura</td>\n",
       "      <td>Wrac</td>\n",
       "      <td>1.0hp</td>\n",
       "      <td>Fixed Speed</td>\n",
       "    </tr>\n",
       "    <tr>\n",
       "      <td>2</td>\n",
       "      <td>Condura</td>\n",
       "      <td>Wrac</td>\n",
       "      <td>1.0hp</td>\n",
       "      <td>Variable Speed</td>\n",
       "    </tr>\n",
       "    <tr>\n",
       "      <td>39</td>\n",
       "      <td>Condura</td>\n",
       "      <td>Wrac</td>\n",
       "      <td>1.5hp</td>\n",
       "      <td>Fixed Speed</td>\n",
       "    </tr>\n",
       "    <tr>\n",
       "      <td>226</td>\n",
       "      <td>Condura</td>\n",
       "      <td>Wrac</td>\n",
       "      <td>1.5hp</td>\n",
       "      <td>Variable Speed</td>\n",
       "    </tr>\n",
       "    <tr>\n",
       "      <td>233</td>\n",
       "      <td>Condura</td>\n",
       "      <td>Wrac</td>\n",
       "      <td>2.0hp</td>\n",
       "      <td>Fixed Speed</td>\n",
       "    </tr>\n",
       "    <tr>\n",
       "      <td>93</td>\n",
       "      <td>Condura</td>\n",
       "      <td>Wrac</td>\n",
       "      <td>2.0hp</td>\n",
       "      <td>Variable Speed</td>\n",
       "    </tr>\n",
       "    <tr>\n",
       "      <td>252</td>\n",
       "      <td>Condura</td>\n",
       "      <td>Wrac</td>\n",
       "      <td>2.5hp</td>\n",
       "      <td>Fixed Speed</td>\n",
       "    </tr>\n",
       "  </tbody>\n",
       "</table>\n",
       "</div>"
      ],
      "text/plain": [
       "          BRAND    UNIT CAPACITY      COMPRESSOR\n",
       "294     Condura  H-Wall    1.0hp     Fixed Speed\n",
       "110     Condura  H-Wall    1.0hp  Variable Speed\n",
       "61      Condura  H-Wall    1.5hp     Fixed Speed\n",
       "111     Condura  H-Wall    1.5hp  Variable Speed\n",
       "503     Condura  H-Wall    2.0hp     Fixed Speed\n",
       "112     Condura  H-Wall    2.0hp  Variable Speed\n",
       "89      Condura  H-Wall    2.5hp     Fixed Speed\n",
       "421     Condura  H-Wall    2.5hp  Variable Speed\n",
       "144722  Condura      PE  2.0Tons     Fixed Speed\n",
       "6202    Condura      PE    3Tons     Fixed Speed\n",
       "10      Condura    Wrac    0.5hp     Fixed Speed\n",
       "30      Condura    Wrac   0.75hp     Fixed Speed\n",
       "3       Condura    Wrac    1.0hp     Fixed Speed\n",
       "2       Condura    Wrac    1.0hp  Variable Speed\n",
       "39      Condura    Wrac    1.5hp     Fixed Speed\n",
       "226     Condura    Wrac    1.5hp  Variable Speed\n",
       "233     Condura    Wrac    2.0hp     Fixed Speed\n",
       "93      Condura    Wrac    2.0hp  Variable Speed\n",
       "252     Condura    Wrac    2.5hp     Fixed Speed"
      ]
     },
     "execution_count": 31,
     "metadata": {},
     "output_type": "execute_result"
    }
   ],
   "source": [
    "# Condura\n",
    "unique_acs[unique_acs['BRAND']=='Condura'].sort_values(['UNIT', 'CAPACITY', 'COMPRESSOR'])"
   ]
  },
  {
   "cell_type": "code",
   "execution_count": 32,
   "metadata": {},
   "outputs": [
    {
     "data": {
      "text/html": [
       "<div>\n",
       "<style scoped>\n",
       "    .dataframe tbody tr th:only-of-type {\n",
       "        vertical-align: middle;\n",
       "    }\n",
       "\n",
       "    .dataframe tbody tr th {\n",
       "        vertical-align: top;\n",
       "    }\n",
       "\n",
       "    .dataframe thead th {\n",
       "        text-align: right;\n",
       "    }\n",
       "</style>\n",
       "<table border=\"1\" class=\"dataframe\">\n",
       "  <thead>\n",
       "    <tr style=\"text-align: right;\">\n",
       "      <th></th>\n",
       "      <th>BRAND</th>\n",
       "      <th>UNIT</th>\n",
       "      <th>CAPACITY</th>\n",
       "      <th>COMPRESSOR</th>\n",
       "    </tr>\n",
       "  </thead>\n",
       "  <tbody>\n",
       "    <tr>\n",
       "      <td>12</td>\n",
       "      <td>Kelvinator</td>\n",
       "      <td>Wrac</td>\n",
       "      <td>0.5hp</td>\n",
       "      <td>Fixed Speed</td>\n",
       "    </tr>\n",
       "    <tr>\n",
       "      <td>19</td>\n",
       "      <td>Kelvinator</td>\n",
       "      <td>Wrac</td>\n",
       "      <td>0.75hp</td>\n",
       "      <td>Fixed Speed</td>\n",
       "    </tr>\n",
       "    <tr>\n",
       "      <td>1</td>\n",
       "      <td>Kelvinator</td>\n",
       "      <td>Wrac</td>\n",
       "      <td>1.0hp</td>\n",
       "      <td>Fixed Speed</td>\n",
       "    </tr>\n",
       "    <tr>\n",
       "      <td>818</td>\n",
       "      <td>Kelvinator</td>\n",
       "      <td>Wrac</td>\n",
       "      <td>1.5hp</td>\n",
       "      <td>Fixed Speed</td>\n",
       "    </tr>\n",
       "  </tbody>\n",
       "</table>\n",
       "</div>"
      ],
      "text/plain": [
       "          BRAND  UNIT CAPACITY   COMPRESSOR\n",
       "12   Kelvinator  Wrac    0.5hp  Fixed Speed\n",
       "19   Kelvinator  Wrac   0.75hp  Fixed Speed\n",
       "1    Kelvinator  Wrac    1.0hp  Fixed Speed\n",
       "818  Kelvinator  Wrac    1.5hp  Fixed Speed"
      ]
     },
     "execution_count": 32,
     "metadata": {},
     "output_type": "execute_result"
    }
   ],
   "source": [
    "# Kelvinator\n",
    "unique_acs[unique_acs['BRAND']=='Kelvinator'].sort_values(['UNIT', 'CAPACITY', 'COMPRESSOR'])"
   ]
  },
  {
   "cell_type": "code",
   "execution_count": 26,
   "metadata": {},
   "outputs": [
    {
     "data": {
      "text/html": [
       "<div>\n",
       "<style scoped>\n",
       "    .dataframe tbody tr th:only-of-type {\n",
       "        vertical-align: middle;\n",
       "    }\n",
       "\n",
       "    .dataframe tbody tr th {\n",
       "        vertical-align: top;\n",
       "    }\n",
       "\n",
       "    .dataframe thead th {\n",
       "        text-align: right;\n",
       "    }\n",
       "</style>\n",
       "<table border=\"1\" class=\"dataframe\">\n",
       "  <thead>\n",
       "    <tr style=\"text-align: right;\">\n",
       "      <th></th>\n",
       "      <th>UNIT</th>\n",
       "      <th>DEALER</th>\n",
       "      <th>CHANNEL</th>\n",
       "      <th>SALES CHANNEL</th>\n",
       "      <th>REGION</th>\n",
       "      <th>WEEK</th>\n",
       "      <th>MONTH</th>\n",
       "      <th>QUARTER</th>\n",
       "      <th>YEAR</th>\n",
       "      <th>BRAND</th>\n",
       "      <th>CAPACITY</th>\n",
       "      <th>COMPRESSOR</th>\n",
       "      <th>COMPANY</th>\n",
       "      <th>QUANTITY</th>\n",
       "    </tr>\n",
       "  </thead>\n",
       "  <tbody>\n",
       "    <tr>\n",
       "      <td>0</td>\n",
       "      <td>H-Wall</td>\n",
       "      <td>ABENSON</td>\n",
       "      <td>Modern Trade</td>\n",
       "      <td>Modern Trade</td>\n",
       "      <td>VISAYAS</td>\n",
       "      <td>Week 1-2018</td>\n",
       "      <td>Jan-18</td>\n",
       "      <td>Q1</td>\n",
       "      <td>2018</td>\n",
       "      <td>Carrier</td>\n",
       "      <td>2.0hp</td>\n",
       "      <td>Variable Speed</td>\n",
       "      <td>CSG</td>\n",
       "      <td>4</td>\n",
       "    </tr>\n",
       "    <tr>\n",
       "      <td>1</td>\n",
       "      <td>Wrac</td>\n",
       "      <td>ABENSON</td>\n",
       "      <td>Modern Trade</td>\n",
       "      <td>Modern Trade</td>\n",
       "      <td>VISAYAS</td>\n",
       "      <td>Week 1-2018</td>\n",
       "      <td>Jan-18</td>\n",
       "      <td>Q1</td>\n",
       "      <td>2018</td>\n",
       "      <td>Kelvinator</td>\n",
       "      <td>1.0hp</td>\n",
       "      <td>Fixed Speed</td>\n",
       "      <td>CSG</td>\n",
       "      <td>2</td>\n",
       "    </tr>\n",
       "    <tr>\n",
       "      <td>2</td>\n",
       "      <td>Wrac</td>\n",
       "      <td>ABENSON</td>\n",
       "      <td>Modern Trade</td>\n",
       "      <td>Modern Trade</td>\n",
       "      <td>VISAYAS</td>\n",
       "      <td>Week 1-2018</td>\n",
       "      <td>Jan-18</td>\n",
       "      <td>Q1</td>\n",
       "      <td>2018</td>\n",
       "      <td>Condura</td>\n",
       "      <td>1.0hp</td>\n",
       "      <td>Variable Speed</td>\n",
       "      <td>CSG</td>\n",
       "      <td>2</td>\n",
       "    </tr>\n",
       "    <tr>\n",
       "      <td>3</td>\n",
       "      <td>Wrac</td>\n",
       "      <td>ABENSON</td>\n",
       "      <td>Modern Trade</td>\n",
       "      <td>Modern Trade</td>\n",
       "      <td>VISAYAS</td>\n",
       "      <td>Week 1-2018</td>\n",
       "      <td>Jan-18</td>\n",
       "      <td>Q1</td>\n",
       "      <td>2018</td>\n",
       "      <td>Condura</td>\n",
       "      <td>1.0hp</td>\n",
       "      <td>Fixed Speed</td>\n",
       "      <td>CSG</td>\n",
       "      <td>2</td>\n",
       "    </tr>\n",
       "    <tr>\n",
       "      <td>4</td>\n",
       "      <td>Wrac</td>\n",
       "      <td>ABENSON</td>\n",
       "      <td>Modern Trade</td>\n",
       "      <td>Modern Trade</td>\n",
       "      <td>VISAYAS</td>\n",
       "      <td>Week 1-2018</td>\n",
       "      <td>Jan-18</td>\n",
       "      <td>Q1</td>\n",
       "      <td>2018</td>\n",
       "      <td>Condura</td>\n",
       "      <td>1.0hp</td>\n",
       "      <td>Fixed Speed</td>\n",
       "      <td>CSG</td>\n",
       "      <td>2</td>\n",
       "    </tr>\n",
       "  </tbody>\n",
       "</table>\n",
       "</div>"
      ],
      "text/plain": [
       "     UNIT   DEALER       CHANNEL SALES CHANNEL   REGION         WEEK   MONTH  \\\n",
       "0  H-Wall  ABENSON  Modern Trade  Modern Trade  VISAYAS  Week 1-2018  Jan-18   \n",
       "1    Wrac  ABENSON  Modern Trade  Modern Trade  VISAYAS  Week 1-2018  Jan-18   \n",
       "2    Wrac  ABENSON  Modern Trade  Modern Trade  VISAYAS  Week 1-2018  Jan-18   \n",
       "3    Wrac  ABENSON  Modern Trade  Modern Trade  VISAYAS  Week 1-2018  Jan-18   \n",
       "4    Wrac  ABENSON  Modern Trade  Modern Trade  VISAYAS  Week 1-2018  Jan-18   \n",
       "\n",
       "  QUARTER  YEAR       BRAND CAPACITY      COMPRESSOR COMPANY  QUANTITY  \n",
       "0      Q1  2018     Carrier    2.0hp  Variable Speed     CSG         4  \n",
       "1      Q1  2018  Kelvinator    1.0hp     Fixed Speed     CSG         2  \n",
       "2      Q1  2018     Condura    1.0hp  Variable Speed     CSG         2  \n",
       "3      Q1  2018     Condura    1.0hp     Fixed Speed     CSG         2  \n",
       "4      Q1  2018     Condura    1.0hp     Fixed Speed     CSG         2  "
      ]
     },
     "execution_count": 26,
     "metadata": {},
     "output_type": "execute_result"
    }
   ],
   "source": [
    "# How many are competitors-only, and company-owned\n",
    "data.head()"
   ]
  },
  {
   "cell_type": "code",
   "execution_count": 28,
   "metadata": {},
   "outputs": [
    {
     "data": {
      "text/plain": [
       "CSG            0.882788\n",
       "Competitors    0.117212\n",
       "Name: COMPANY, dtype: float64"
      ]
     },
     "execution_count": 28,
     "metadata": {},
     "output_type": "execute_result"
    }
   ],
   "source": [
    "# Percent competitor data vs company data (number of rows)\n",
    "data['COMPANY'].value_counts()/data['COMPANY'].shape"
   ]
  },
  {
   "cell_type": "code",
   "execution_count": 91,
   "metadata": {},
   "outputs": [
    {
     "data": {
      "text/plain": [
       "COMPANY\n",
       "CSG            821626\n",
       "Competitors    773026\n",
       "Name: QUANTITY, dtype: int64"
      ]
     },
     "execution_count": 91,
     "metadata": {},
     "output_type": "execute_result"
    }
   ],
   "source": [
    "# Percent competitor data vs company data (quantities sold)\n",
    "data.groupby('COMPANY')['QUANTITY'].sum()"
   ]
  },
  {
   "cell_type": "code",
   "execution_count": 41,
   "metadata": {},
   "outputs": [
    {
     "data": {
      "text/plain": [
       "<matplotlib.axes._subplots.AxesSubplot at 0x1a211a31d0>"
      ]
     },
     "execution_count": 41,
     "metadata": {},
     "output_type": "execute_result"
    },
    {
     "data": {
      "image/png": "[encoded data removed]",
      "text/plain": [
       "<Figure size 432x288 with 1 Axes>"
      ]
     },
     "metadata": {
      "needs_background": "light"
     },
     "output_type": "display_data"
    }
   ],
   "source": [
    "# Units sold per quarter\n",
    "new_data.groupby('QUARTER')['QUANTITY'].sum().plot(kind='bar')"
   ]
  },
  {
   "cell_type": "code",
   "execution_count": 47,
   "metadata": {},
   "outputs": [
    {
     "name": "stderr",
     "output_type": "stream",
     "text": [
      "/Users/xmpuspus/anaconda3/lib/python3.7/site-packages/ipykernel_launcher.py:2: FutureWarning: `Series.plot()` should not be called with positional arguments, only keyword arguments. The order of positional arguments will change in the future. Use `Series.plot(kind='barh')` instead of `Series.plot('barh',)`.\n",
      "  \n"
     ]
    },
    {
     "data": {
      "image/png": "[encoded data removed]",
      "text/plain": [
       "<Figure size 1440x720 with 1 Axes>"
      ]
     },
     "metadata": {
      "needs_background": "light"
     },
     "output_type": "display_data"
    }
   ],
   "source": [
    "# Units sold per Dealer\n",
    "new_data.groupby('DEALER')['QUANTITY'].sum().sort_values(ascending=False)[:10].plot('barh', figsize=(20, 10))\n",
    "plt.gca().invert_yaxis()"
   ]
  },
  {
   "cell_type": "code",
   "execution_count": 78,
   "metadata": {},
   "outputs": [
    {
     "data": {
      "text/html": [
       "<div>\n",
       "<style scoped>\n",
       "    .dataframe tbody tr th:only-of-type {\n",
       "        vertical-align: middle;\n",
       "    }\n",
       "\n",
       "    .dataframe tbody tr th {\n",
       "        vertical-align: top;\n",
       "    }\n",
       "\n",
       "    .dataframe thead th {\n",
       "        text-align: right;\n",
       "    }\n",
       "</style>\n",
       "<table border=\"1\" class=\"dataframe\">\n",
       "  <thead>\n",
       "    <tr style=\"text-align: right;\">\n",
       "      <th></th>\n",
       "      <th>CHANNEL</th>\n",
       "      <th>SALES CHANNEL</th>\n",
       "    </tr>\n",
       "  </thead>\n",
       "  <tbody>\n",
       "    <tr>\n",
       "      <td>0</td>\n",
       "      <td>Modern Trade</td>\n",
       "      <td>Modern Trade</td>\n",
       "    </tr>\n",
       "    <tr>\n",
       "      <td>13</td>\n",
       "      <td>Traditional</td>\n",
       "      <td>GMA/SL</td>\n",
       "    </tr>\n",
       "    <tr>\n",
       "      <td>30</td>\n",
       "      <td>Traditional</td>\n",
       "      <td>VIS</td>\n",
       "    </tr>\n",
       "    <tr>\n",
       "      <td>346</td>\n",
       "      <td>Modern Trade</td>\n",
       "      <td>GMA/SL</td>\n",
       "    </tr>\n",
       "    <tr>\n",
       "      <td>925</td>\n",
       "      <td>Traditional</td>\n",
       "      <td>MIN</td>\n",
       "    </tr>\n",
       "    <tr>\n",
       "      <td>967</td>\n",
       "      <td>Traditional</td>\n",
       "      <td>NCL</td>\n",
       "    </tr>\n",
       "  </tbody>\n",
       "</table>\n",
       "</div>"
      ],
      "text/plain": [
       "          CHANNEL SALES CHANNEL\n",
       "0    Modern Trade  Modern Trade\n",
       "13    Traditional        GMA/SL\n",
       "30    Traditional           VIS\n",
       "346  Modern Trade        GMA/SL\n",
       "925   Traditional           MIN\n",
       "967   Traditional           NCL"
      ]
     },
     "execution_count": 78,
     "metadata": {},
     "output_type": "execute_result"
    }
   ],
   "source": [
    "new_data[['CHANNEL', 'SALES CHANNEL']].drop_duplicates()"
   ]
  },
  {
   "cell_type": "code",
   "execution_count": 90,
   "metadata": {},
   "outputs": [
    {
     "data": {
      "text/plain": [
       "CHANNEL\n",
       "Modern Trade    511876\n",
       "Traditional     309750\n",
       "Name: QUANTITY, dtype: int64"
      ]
     },
     "execution_count": 90,
     "metadata": {},
     "output_type": "execute_result"
    }
   ],
   "source": [
    "# Percent Modern vs traditional\n",
    "new_data.groupby('CHANNEL')['QUANTITY'].sum()#/data['CHANNEL'].shape"
   ]
  },
  {
   "cell_type": "code",
   "execution_count": 89,
   "metadata": {},
   "outputs": [
    {
     "data": {
      "text/plain": [
       "SALES CHANNEL\n",
       "GMA/SL          114302\n",
       "MIN              32902\n",
       "Modern Trade    459169\n",
       "NCL             122168\n",
       "VIS              93085\n",
       "Name: QUANTITY, dtype: int64"
      ]
     },
     "execution_count": 89,
     "metadata": {},
     "output_type": "execute_result"
    }
   ],
   "source": [
    "# Diffent Regions\n",
    "new_data.groupby('SALES CHANNEL')['QUANTITY'].sum()#/data['SALES CHANNEL'].shape"
   ]
  },
  {
   "cell_type": "code",
   "execution_count": 88,
   "metadata": {},
   "outputs": [
    {
     "data": {
      "text/plain": [
       "UNIT\n",
       "H-Wall    255272\n",
       "PE         35418\n",
       "Wrac      530936\n",
       "Name: QUANTITY, dtype: int64"
      ]
     },
     "execution_count": 88,
     "metadata": {},
     "output_type": "execute_result"
    }
   ],
   "source": [
    "## Percent diff units\n",
    "new_data.groupby('UNIT')['QUANTITY'].sum()#/data['UNIT'].shape"
   ]
  },
  {
   "cell_type": "code",
   "execution_count": 72,
   "metadata": {},
   "outputs": [
    {
     "name": "stderr",
     "output_type": "stream",
     "text": [
      "/Users/xmpuspus/anaconda3/lib/python3.7/site-packages/ipykernel_launcher.py:2: SettingWithCopyWarning: \n",
      "A value is trying to be set on a copy of a slice from a DataFrame.\n",
      "Try using .loc[row_indexer,col_indexer] = value instead\n",
      "\n",
      "See the caveats in the documentation: http://pandas.pydata.org/pandas-docs/stable/user_guide/indexing.html#returning-a-view-versus-a-copy\n",
      "  \n"
     ]
    },
    {
     "data": {
      "text/plain": [
       "<matplotlib.axes._subplots.AxesSubplot at 0x1a293396d0>"
      ]
     },
     "execution_count": 72,
     "metadata": {},
     "output_type": "execute_result"
    },
    {
     "data": {
      "image/png": "[encoded data removed]",
      "text/plain": [
       "<Figure size 1440x720 with 1 Axes>"
      ]
     },
     "metadata": {
      "needs_background": "light"
     },
     "output_type": "display_data"
    }
   ],
   "source": [
    "# Units sold per week\n",
    "\n",
    "# Get weeknumber by parsing text\n",
    "new_data['WEEKNUM'] = new_data['WEEK'].apply(lambda x: int(x.split('-')[0].split(' ')[1]))\n",
    "\n",
    "# Groupby week to see weekly units sold\n",
    "new_data.groupby('WEEKNUM')['QUANTITY'].sum().plot(kind='bar', figsize=(20,10))"
   ]
  },
  {
   "cell_type": "code",
   "execution_count": 74,
   "metadata": {},
   "outputs": [
    {
     "data": {
      "text/plain": [
       "MONTH\n",
       "Apr-18     75124\n",
       "Aug-18     46341\n",
       "Dec-18     53369\n",
       "Feb-18     49823\n",
       "Jan-18     54717\n",
       "Jul-18     63015\n",
       "Jun-18     79319\n",
       "Mar-18     76045\n",
       "May-18    150915\n",
       "Nov-18     54805\n",
       "Oct-18     73571\n",
       "Sep-18     44582\n",
       "Name: QUANTITY, dtype: int64"
      ]
     },
     "execution_count": 74,
     "metadata": {},
     "output_type": "execute_result"
    }
   ],
   "source": [
    "# Units sold per Month\n",
    "\n",
    "# Groupby month to see weekly units sold\n",
    "new_data.groupby('MONTH')['QUANTITY'].sum()#.plot(kind='bar', figsize=(20,10))"
   ]
  },
  {
   "cell_type": "code",
   "execution_count": 87,
   "metadata": {},
   "outputs": [
    {
     "data": {
      "text/plain": [
       "UNIT\n",
       "H-Wall     77732\n",
       "PE         10800\n",
       "Wrac      167546\n",
       "Name: QUANTITY, dtype: int64"
      ]
     },
     "execution_count": 87,
     "metadata": {},
     "output_type": "execute_result"
    }
   ],
   "source": [
    "# Most sold AC unit in Abenson? \n",
    "new_data[new_data['DEALER']=='ABENSON'].groupby('UNIT')['QUANTITY'].sum()#/data['DEALER'].shape"
   ]
  },
  {
   "cell_type": "code",
   "execution_count": 102,
   "metadata": {},
   "outputs": [
    {
     "data": {
      "text/plain": [
       "DEALER                               UNIT  \n",
       "ABENSON                              H-Wall     77732\n",
       "                                     PE         10800\n",
       "                                     Wrac      167546\n",
       "ADDESSA CORPORATION                  H-Wall      2912\n",
       "                                     PE           185\n",
       "                                     Wrac        4025\n",
       "ALL HOME                             H-Wall       789\n",
       "                                     PE            13\n",
       "                                     Wrac        1517\n",
       "ALSON-JAYSON                         H-Wall      1430\n",
       "                                     PE           381\n",
       "                                     Wrac        2639\n",
       "ANSON'S                              H-Wall      9054\n",
       "                                     PE           529\n",
       "                                     Wrac       18538\n",
       "APPLIANCE CENTRUM GROUP              H-Wall       416\n",
       "                                     PE            16\n",
       "                                     Wrac        1688\n",
       "ASIAN HOME GROUP                     H-Wall        57\n",
       "                                     PE            48\n",
       "                                     Wrac        1229\n",
       "AUTOMATIC                            H-Wall      2044\n",
       "                                     PE           249\n",
       "                                     Wrac        9030\n",
       "BALINGIT HOME FURNISHING 3B & A      H-Wall      3298\n",
       "                                     PE           604\n",
       "                                     Wrac        3691\n",
       "BALINGIT HOME FURNISHING CORP        H-Wall       996\n",
       "                                     PE           134\n",
       "                                     Wrac         982\n",
       "BODEGA GLASSWARE                     H-Wall       699\n",
       "                                     PE           285\n",
       "                                     Wrac         883\n",
       "CAGAYAN APPLIANCE CENTER             H-Wall       845\n",
       "                                     PE           418\n",
       "                                     Wrac         539\n",
       "CO GROUP                             H-Wall      6344\n",
       "                                     PE          3828\n",
       "                                     Wrac       13198\n",
       "CSI WAREHOUSE CLUB                   H-Wall      5572\n",
       "                                     PE           854\n",
       "                                     Wrac        6125\n",
       "CW HOME DEPOT                        H-Wall      1308\n",
       "                                     PE           126\n",
       "                                     Wrac        1442\n",
       "DES APPLIANCE PLAZA, INC.            H-Wall        61\n",
       "                                     Wrac         344\n",
       "DIMDI CENTRE, INC                    H-Wall       271\n",
       "                                     PE           156\n",
       "                                     Wrac        1260\n",
       "DU EK SAM, INC.                      H-Wall      4493\n",
       "                                     PE           353\n",
       "                                     Wrac       10265\n",
       "ECHO ELECTRICAL APPLIANCE            H-Wall      1041\n",
       "                                     PE           534\n",
       "                                     Wrac        2617\n",
       "ECO TECH APPLIANCE CENTER            H-Wall        86\n",
       "                                     PE             8\n",
       "                                     Wrac         437\n",
       "EMCOR INC.                           H-Wall        99\n",
       "                                     PE            20\n",
       "                                     Wrac         584\n",
       "FIESTA APPLIANCE CENTER              H-Wall       429\n",
       "                                     PE            40\n",
       "                                     Wrac        2476\n",
       "FURNITURE ARTS APPLIANCE             PE             4\n",
       "                                     Wrac          37\n",
       "GLORIA BAZAAR                        H-Wall       300\n",
       "                                     PE            84\n",
       "                                     Wrac         896\n",
       "GV APPLIANCE CORPORATION             H-Wall         8\n",
       "                                     PE             8\n",
       "                                     Wrac         199\n",
       "HYPERMARKET                          H-Wall       221\n",
       "                                     Wrac        8515\n",
       "IMPERIAL APPLIANCE                   H-Wall     11497\n",
       "                                     PE          2150\n",
       "                                     Wrac       48845\n",
       "J MARKETING                          H-Wall        56\n",
       "                                     Wrac        1263\n",
       "J&R                                  H-Wall      2678\n",
       "                                     PE          1211\n",
       "                                     Wrac        3053\n",
       "MAGIC APPLIANCE CENTER               H-Wall     10030\n",
       "                                     PE           560\n",
       "                                     Wrac       13824\n",
       "METRO PLAZA                          H-Wall       194\n",
       "                                     PE            85\n",
       "                                     Wrac         433\n",
       "MULTIBRAND APPLIANCE                 H-Wall       416\n",
       "                                     PE            99\n",
       "                                     Wrac         507\n",
       "NATIONAL COMMERIAL                   H-Wall       145\n",
       "                                     PE           100\n",
       "                                     Wrac         254\n",
       "NE TRADING                           Wrac        1941\n",
       "NEW LIBERTY STORE, INC               H-Wall        69\n",
       "                                     PE            56\n",
       "                                     Wrac         208\n",
       "OCAMPOS GROUP                        H-Wall       276\n",
       "                                     PE            50\n",
       "                                     Wrac        1380\n",
       "POS MKTG                             H-Wall       228\n",
       "                                     PE             4\n",
       "                                     Wrac         898\n",
       "POWERAIRE                            H-Wall      4753\n",
       "                                     PE          1752\n",
       "                                     Wrac        2536\n",
       "PRICEWISE MARKETING CORPORATION      H-Wall        28\n",
       "                                     PE            64\n",
       "                                     Wrac        2686\n",
       "QUALITY APPLIANCE YAP                H-Wall      1870\n",
       "                                     PE           694\n",
       "                                     Wrac       12664\n",
       "R.J.HOMES THE APPLIANCE PLAZA, INC.  H-Wall       857\n",
       "                                     PE           225\n",
       "                                     Wrac        4448\n",
       "RCC                                  H-Wall       877\n",
       "                                     PE          1257\n",
       "                                     Wrac        1187\n",
       "RL APPLIANCE                         H-Wall      1657\n",
       "                                     PE           592\n",
       "                                     Wrac        2202\n",
       "ROBINSONS                            H-Wall     21410\n",
       "                                     PE          1265\n",
       "                                     Wrac       37897\n",
       "ROYAL STAR                           H-Wall      1384\n",
       "                                     PE           111\n",
       "                                     Wrac        3710\n",
       "RRS MARKETING                        H-Wall        25\n",
       "                                     PE             4\n",
       "                                     Wrac         212\n",
       "SAVERS ELECTRONIC WORLD INC          H-Wall     14158\n",
       "                                     PE          2072\n",
       "                                     Wrac       18734\n",
       "STAR APPLIANCE                       H-Wall     50042\n",
       "                                     PE          1171\n",
       "                                     Wrac       82570\n",
       "TARLAC MAC ENTERPRISES, INC.         H-Wall      8985\n",
       "                                     PE          1961\n",
       "                                     Wrac       16684\n",
       "TRINITY                              H-Wall       320\n",
       "                                     PE            20\n",
       "                                     Wrac         601\n",
       "WE BUILD HOMES CO.                   H-Wall       155\n",
       "                                     PE            42\n",
       "                                     Wrac        1087\n",
       "WESTERN                              H-Wall      2657\n",
       "                                     PE           196\n",
       "                                     Wrac       10410\n",
       "Name: QUANTITY, dtype: int64"
      ]
     },
     "execution_count": 102,
     "metadata": {},
     "output_type": "execute_result"
    }
   ],
   "source": [
    "# Types of units sold for all using one line of code\n",
    "sold_units_per_dealer_per_type = new_data.groupby(['DEALER','UNIT'])['QUANTITY'].sum()\n",
    "sold_units_per_dealer_per_type"
   ]
  },
  {
   "cell_type": "markdown",
   "metadata": {},
   "source": [
    "### Feature Engineering"
   ]
  },
  {
   "cell_type": "code",
   "execution_count": null,
   "metadata": {},
   "outputs": [],
   "source": [
    "# Get Features\n",
    "features = new_data.drop(['QUANTITY'], axis=1)\n",
    "\n",
    "# Dummify\n",
    "X = pd.get_dummies(features)\n",
    "\n",
    "# Get Targets\n",
    "y = new_data['QUANTITY']"
   ]
  },
  {
   "cell_type": "code",
   "execution_count": null,
   "metadata": {},
   "outputs": [],
   "source": [
    "X.shape"
   ]
  },
  {
   "cell_type": "code",
   "execution_count": null,
   "metadata": {},
   "outputs": [],
   "source": [
    "X.shape, y.shape"
   ]
  },
  {
   "cell_type": "markdown",
   "metadata": {},
   "source": [
    "### Modelling"
   ]
  },
  {
   "cell_type": "code",
   "execution_count": null,
   "metadata": {},
   "outputs": [],
   "source": [
    "X_train, X_test, y_train, y_test = train_test_split(X, y, test_size = 0.4, random_state = 42)\n",
    "\n",
    "model = RandomForestRegressor(n_estimators=100, random_state=42)\n",
    "# model = GradientBoostingRegressor(n_estimators=300, random_state=42)\n",
    "\n",
    "# Fit Model\n",
    "%time model.fit(X_train, y_train)"
   ]
  },
  {
   "cell_type": "markdown",
   "metadata": {},
   "source": [
    "### Feature Importances"
   ]
  },
  {
   "cell_type": "code",
   "execution_count": null,
   "metadata": {},
   "outputs": [],
   "source": [
    "feature_importances_df = pd.DataFrame({\"Features\": X.columns,\n",
    "                                       \"Feature Importance\": model.feature_importances_}\n",
    "                                     ).sort_values('Feature Importance', ascending=False).set_index('Features')\n",
    "\n",
    "# Top 20 Features\n",
    "feature_importances_df[:20].plot(kind='barh')\n",
    "plt.gca().invert_yaxis()"
   ]
  },
  {
   "cell_type": "code",
   "execution_count": null,
   "metadata": {},
   "outputs": [],
   "source": [
    "data.UNIT.value_counts()/data.UNIT.shape[0]"
   ]
  },
  {
   "cell_type": "markdown",
   "metadata": {},
   "source": [
    "### RMSE"
   ]
  },
  {
   "cell_type": "code",
   "execution_count": null,
   "metadata": {},
   "outputs": [],
   "source": [
    "# Train Predictions\n",
    "y_pred_train = model.predict(X_train).astype(int)\n",
    "\n",
    "# Test Predictions\n",
    "y_pred = model.predict(X_test).astype(int)\n",
    "\n",
    "# Train RMSE\n",
    "rmse_score_train = np.sqrt(mse(y_pred_train, y_train))\n",
    "\n",
    "# Test RMSE\n",
    "rmse_score = np.sqrt(mse(y_pred, y_test))"
   ]
  },
  {
   "cell_type": "code",
   "execution_count": null,
   "metadata": {},
   "outputs": [],
   "source": [
    "rmse_score, rmse_score_train"
   ]
  },
  {
   "cell_type": "markdown",
   "metadata": {},
   "source": [
    "RMSE is pretty good."
   ]
  },
  {
   "cell_type": "markdown",
   "metadata": {},
   "source": [
    "### Compare Predictions from Actual Price"
   ]
  },
  {
   "cell_type": "code",
   "execution_count": null,
   "metadata": {},
   "outputs": [],
   "source": [
    "prediction_real_df = pd.DataFrame({\"Real Sales Quantity\": y_test, \"Predicted Sales Quantity\": y_pred})"
   ]
  },
  {
   "cell_type": "code",
   "execution_count": null,
   "metadata": {},
   "outputs": [],
   "source": [
    "prediction_real_df.plot.scatter('Real Sales Quantity', 'Predicted Sales Quantity')"
   ]
  },
  {
   "cell_type": "markdown",
   "metadata": {},
   "source": [
    "Predictions are pretty conservative, meaning, they are generally predicting low sale count."
   ]
  },
  {
   "cell_type": "markdown",
   "metadata": {},
   "source": [
    "### Another Metric"
   ]
  },
  {
   "cell_type": "code",
   "execution_count": null,
   "metadata": {},
   "outputs": [],
   "source": [
    "def mean_absolute_percentage_error(y_true, y_pred): \n",
    "    y_true, y_pred = np.array(y_true), np.array(y_pred)\n",
    "    return np.mean(np.abs((y_true - y_pred) / y_true)) * 100"
   ]
  },
  {
   "cell_type": "code",
   "execution_count": null,
   "metadata": {},
   "outputs": [],
   "source": [
    "mape = mean_absolute_percentage_error(y_test, y_pred)\n",
    "mape"
   ]
  },
  {
   "cell_type": "markdown",
   "metadata": {},
   "source": [
    "### Save Model"
   ]
  },
  {
   "cell_type": "code",
   "execution_count": null,
   "metadata": {},
   "outputs": [],
   "source": [
    "pd.options.display.max_columns = 999"
   ]
  },
  {
   "cell_type": "code",
   "execution_count": null,
   "metadata": {},
   "outputs": [],
   "source": [
    "import joblib"
   ]
  },
  {
   "cell_type": "code",
   "execution_count": null,
   "metadata": {},
   "outputs": [],
   "source": [
    "joblib.dump(model, 'model/cortex_model.sav')"
   ]
  },
  {
   "cell_type": "code",
   "execution_count": null,
   "metadata": {},
   "outputs": [],
   "source": [
    "X_train.head()"
   ]
  },
  {
   "cell_type": "code",
   "execution_count": null,
   "metadata": {},
   "outputs": [],
   "source": [
    "features"
   ]
  },
  {
   "cell_type": "code",
   "execution_count": null,
   "metadata": {},
   "outputs": [],
   "source": [
    "# Education Level\n",
    "unit_values = pd.Series(data['UNIT'].unique()).str.strip()\n",
    "unit_dummies = pd.get_dummies(unit_values)\n",
    "\n",
    "# unit_sample = st.sidebar.selectbox(\"AC Unit\", unit_values.values.tolist())\n",
    "\n",
    "unit_sample_dummies = (unit_dummies.loc[np.where(unit_values.values == 'H-Wall')[0]]\n",
    "                                  .values.tolist()[0])"
   ]
  },
  {
   "cell_type": "code",
   "execution_count": null,
   "metadata": {},
   "outputs": [],
   "source": [
    "unit_dummies"
   ]
  },
  {
   "cell_type": "code",
   "execution_count": null,
   "metadata": {},
   "outputs": [],
   "source": [
    "unit_sample_dummies + unit_sample_dummies"
   ]
  },
  {
   "cell_type": "code",
   "execution_count": null,
   "metadata": {},
   "outputs": [],
   "source": [
    "# Unit Level\n",
    "data = new_data.copy()\n",
    "unit_values = pd.Series(data['UNIT'].unique()).str.strip()\n",
    "unit_dummies = pd.get_dummies(unit_values)\n",
    "\n",
    "# unit_sample = st.sidebar.selectbox(\"AC Unit\", unit_values.values.tolist())\n",
    "\n",
    "unit_sample_dummies = (unit_dummies.loc[np.where(unit_values.values == 'H-Wall')[0]]\n",
    "                                  .values.tolist()[0])\n",
    "\n",
    "\n",
    "# Dealer Level\n",
    "dealer_values = pd.Series(data['DEALER'].unique()).str.strip()\n",
    "dealer_dummies = pd.get_dummies(dealer_values)\n",
    "\n",
    "# dealer_sample = st.sidebar.selectbox(\"Dealer\", dealer_values.values.tolist())\n",
    "\n",
    "dealer_sample_dummies = (dealer_dummies.loc[np.where(dealer_values.values == 'ABENSON')[0]]\n",
    "                                  .values.tolist()[0])\n",
    "\n",
    "\n",
    "# Channel Level\n",
    "channel_values = pd.Series(data['CHANNEL'].unique()).str.strip()\n",
    "channel_dummies = pd.get_dummies(channel_values)\n",
    "\n",
    "# channel_sample = st.sidebar.selectbox(\"Channel\", channel_values.values.tolist())\n",
    "\n",
    "channel_sample_dummies = (channel_dummies.loc[np.where(channel_values.values == 'Modern Trade')[0]]\n",
    "                                  .values.tolist()[0])\n",
    "\n",
    "\n",
    "# Sales Channel Level\n",
    "sales_channel_values = pd.Series(data['SALES CHANNEL'].unique()).str.strip()\n",
    "sales_channel_dummies = pd.get_dummies(sales_channel_values)\n",
    "\n",
    "# sales_channel_sample = st.sidebar.selectbox(\"Sales Channel\", sales_channel_values.values.tolist())\n",
    "\n",
    "sales_channel_sample_dummies = (sales_channel_dummies.loc[np.where(sales_channel_values.values == 'Modern Trade')[0]]\n",
    "                                  .values.tolist()[0])\n",
    "\n",
    "\n",
    "# Region Level\n",
    "region_values = pd.Series(data['REGION'].unique()).str.strip()\n",
    "region_dummies = pd.get_dummies(region_values)\n",
    "\n",
    "# region_sample = st.sidebar.selectbox(\"Region\", region_values.values.tolist())\n",
    "\n",
    "region_sample_dummies = (region_dummies.loc[np.where(region_values.values == 'VISAYAS')[0]]\n",
    "                                  .values.tolist()[0])\n",
    "\n",
    "\n",
    "# Brand Level\n",
    "brand_values = pd.Series(data['BRAND'].unique()).str.strip()\n",
    "brand_dummies = pd.get_dummies(brand_values)\n",
    "\n",
    "# brand_sample = st.sidebar.selectbox(\"Brand\", brand_values.values.tolist())\n",
    "\n",
    "brand_sample_dummies = (brand_dummies.loc[np.where(brand_values.values == 'Carrier')[0]]\n",
    "                                  .values.tolist()[0])\n",
    "\n",
    "# Capacity Level\n",
    "cap_values = pd.Series(data['CAPACITY'].unique()).str.strip()\n",
    "cap_dummies = pd.get_dummies(cap_values)\n",
    "\n",
    "# cap_sample = st.sidebar.selectbox(\"Capacity\", cap_values.values.tolist())\n",
    "\n",
    "cap_sample_dummies = (cap_dummies.loc[np.where(cap_values.values == '2.0hp')[0]]\n",
    "                                  .values.tolist()[0])\n",
    "\n",
    "\n",
    "# Compressor Level\n",
    "comp_values = pd.Series(data['COMPRESSOR'].unique()).str.strip()\n",
    "comp_dummies = pd.get_dummies(comp_values)\n",
    "\n",
    "# comp_sample = st.sidebar.selectbox(\"Compressor\", comp_values.values.tolist())\n",
    "\n",
    "comp_sample_dummies = (comp_dummies.loc[np.where(comp_values.values == 'Variable Speed')[0]]\n",
    "                                  .values.tolist()[0])\n",
    "\n",
    "# Prediction\n",
    "# st.title(\"Predicted Sales\")\n",
    "\n",
    "# Load Model\n",
    "model = joblib.load('model/cortex_model.sav')\n",
    "\n",
    "# Input\n",
    "sample_features = (unit_sample_dummies + dealer_sample_dummies + channel_sample_dummies + sales_channel_sample_dummies +\n",
    "                   region_sample_dummies + brand_sample_dummies + cap_sample_dummies + comp_sample_dummies + [1])\n",
    "\n"
   ]
  },
  {
   "cell_type": "code",
   "execution_count": null,
   "metadata": {},
   "outputs": [],
   "source": [
    "len(sample_features)"
   ]
  },
  {
   "cell_type": "code",
   "execution_count": null,
   "metadata": {},
   "outputs": [],
   "source": [
    "channel_values"
   ]
  },
  {
   "cell_type": "code",
   "execution_count": null,
   "metadata": {},
   "outputs": [],
   "source": []
  }
 ],
 "metadata": {
  "kernelspec": {
   "display_name": "Python 3",
   "language": "python",
   "name": "python3"
  },
  "language_info": {
   "codemirror_mode": {
    "name": "ipython",
    "version": 3
   },
   "file_extension": ".py",
   "mimetype": "text/x-python",
   "name": "python",
   "nbconvert_exporter": "python",
   "pygments_lexer": "ipython3",
   "version": "3.7.4"
  }
 },
 "nbformat": 4,
 "nbformat_minor": 4
}
