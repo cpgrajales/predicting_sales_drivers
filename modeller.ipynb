{
 "cells": [
  {
   "cell_type": "code",
   "execution_count": 3,
   "metadata": {},
   "outputs": [],
   "source": [
    "import pandas as pd\n",
    "import numpy as np\n",
    "import seaborn as sns\n",
    "import matplotlib.pyplot as plt"
   ]
  },
  {
   "cell_type": "code",
   "execution_count": 4,
   "metadata": {},
   "outputs": [],
   "source": [
    "from sklearn.linear_model import LinearRegression \n",
    "from sklearn.model_selection import train_test_split\n",
    "\n",
    "# Ensemble Methods\n",
    "from sklearn.ensemble import RandomForestRegressor\n",
    "from sklearn.ensemble import GradientBoostingRegressor\n",
    "from sklearn.metrics import mean_squared_error as mse"
   ]
  },
  {
   "cell_type": "code",
   "execution_count": 9,
   "metadata": {},
   "outputs": [],
   "source": [
    "data = pd.read_csv('data/Sell-Out Data.csv', low_memory=False, thousands=',')"
   ]
  },
  {
   "cell_type": "code",
   "execution_count": 10,
   "metadata": {},
   "outputs": [
    {
     "data": {
      "text/html": [
       "<div>\n",
       "<style scoped>\n",
       "    .dataframe tbody tr th:only-of-type {\n",
       "        vertical-align: middle;\n",
       "    }\n",
       "\n",
       "    .dataframe tbody tr th {\n",
       "        vertical-align: top;\n",
       "    }\n",
       "\n",
       "    .dataframe thead th {\n",
       "        text-align: right;\n",
       "    }\n",
       "</style>\n",
       "<table border=\"1\" class=\"dataframe\">\n",
       "  <thead>\n",
       "    <tr style=\"text-align: right;\">\n",
       "      <th></th>\n",
       "      <th>UNIT</th>\n",
       "      <th>DEALER</th>\n",
       "      <th>CHANNEL</th>\n",
       "      <th>SALES CHANNEL</th>\n",
       "      <th>REGION</th>\n",
       "      <th>WEEK</th>\n",
       "      <th>MONTH</th>\n",
       "      <th>QUARTER</th>\n",
       "      <th>YEAR</th>\n",
       "      <th>BRAND</th>\n",
       "      <th>CAPACITY</th>\n",
       "      <th>COMPRESSOR</th>\n",
       "      <th>COMPANY</th>\n",
       "      <th>QUANTITY</th>\n",
       "    </tr>\n",
       "  </thead>\n",
       "  <tbody>\n",
       "    <tr>\n",
       "      <td>0</td>\n",
       "      <td>H-Wall</td>\n",
       "      <td>ABENSON</td>\n",
       "      <td>Modern Trade</td>\n",
       "      <td>Modern Trade</td>\n",
       "      <td>VISAYAS</td>\n",
       "      <td>Week 1-2018</td>\n",
       "      <td>Jan-18</td>\n",
       "      <td>Q1</td>\n",
       "      <td>2018</td>\n",
       "      <td>Carrier</td>\n",
       "      <td>2.0hp</td>\n",
       "      <td>Variable Speed</td>\n",
       "      <td>CSG</td>\n",
       "      <td>4</td>\n",
       "    </tr>\n",
       "    <tr>\n",
       "      <td>1</td>\n",
       "      <td>Wrac</td>\n",
       "      <td>ABENSON</td>\n",
       "      <td>Modern Trade</td>\n",
       "      <td>Modern Trade</td>\n",
       "      <td>VISAYAS</td>\n",
       "      <td>Week 1-2018</td>\n",
       "      <td>Jan-18</td>\n",
       "      <td>Q1</td>\n",
       "      <td>2018</td>\n",
       "      <td>Kelvinator</td>\n",
       "      <td>1.0hp</td>\n",
       "      <td>Fixed Speed</td>\n",
       "      <td>CSG</td>\n",
       "      <td>2</td>\n",
       "    </tr>\n",
       "    <tr>\n",
       "      <td>2</td>\n",
       "      <td>Wrac</td>\n",
       "      <td>ABENSON</td>\n",
       "      <td>Modern Trade</td>\n",
       "      <td>Modern Trade</td>\n",
       "      <td>VISAYAS</td>\n",
       "      <td>Week 1-2018</td>\n",
       "      <td>Jan-18</td>\n",
       "      <td>Q1</td>\n",
       "      <td>2018</td>\n",
       "      <td>Condura</td>\n",
       "      <td>1.0hp</td>\n",
       "      <td>Variable Speed</td>\n",
       "      <td>CSG</td>\n",
       "      <td>2</td>\n",
       "    </tr>\n",
       "    <tr>\n",
       "      <td>3</td>\n",
       "      <td>Wrac</td>\n",
       "      <td>ABENSON</td>\n",
       "      <td>Modern Trade</td>\n",
       "      <td>Modern Trade</td>\n",
       "      <td>VISAYAS</td>\n",
       "      <td>Week 1-2018</td>\n",
       "      <td>Jan-18</td>\n",
       "      <td>Q1</td>\n",
       "      <td>2018</td>\n",
       "      <td>Condura</td>\n",
       "      <td>1.0hp</td>\n",
       "      <td>Fixed Speed</td>\n",
       "      <td>CSG</td>\n",
       "      <td>2</td>\n",
       "    </tr>\n",
       "    <tr>\n",
       "      <td>4</td>\n",
       "      <td>Wrac</td>\n",
       "      <td>ABENSON</td>\n",
       "      <td>Modern Trade</td>\n",
       "      <td>Modern Trade</td>\n",
       "      <td>VISAYAS</td>\n",
       "      <td>Week 1-2018</td>\n",
       "      <td>Jan-18</td>\n",
       "      <td>Q1</td>\n",
       "      <td>2018</td>\n",
       "      <td>Condura</td>\n",
       "      <td>1.0hp</td>\n",
       "      <td>Fixed Speed</td>\n",
       "      <td>CSG</td>\n",
       "      <td>2</td>\n",
       "    </tr>\n",
       "  </tbody>\n",
       "</table>\n",
       "</div>"
      ],
      "text/plain": [
       "     UNIT   DEALER       CHANNEL SALES CHANNEL   REGION         WEEK   MONTH  \\\n",
       "0  H-Wall  ABENSON  Modern Trade  Modern Trade  VISAYAS  Week 1-2018  Jan-18   \n",
       "1    Wrac  ABENSON  Modern Trade  Modern Trade  VISAYAS  Week 1-2018  Jan-18   \n",
       "2    Wrac  ABENSON  Modern Trade  Modern Trade  VISAYAS  Week 1-2018  Jan-18   \n",
       "3    Wrac  ABENSON  Modern Trade  Modern Trade  VISAYAS  Week 1-2018  Jan-18   \n",
       "4    Wrac  ABENSON  Modern Trade  Modern Trade  VISAYAS  Week 1-2018  Jan-18   \n",
       "\n",
       "  QUARTER  YEAR       BRAND CAPACITY      COMPRESSOR COMPANY  QUANTITY  \n",
       "0      Q1  2018     Carrier    2.0hp  Variable Speed     CSG         4  \n",
       "1      Q1  2018  Kelvinator    1.0hp     Fixed Speed     CSG         2  \n",
       "2      Q1  2018     Condura    1.0hp  Variable Speed     CSG         2  \n",
       "3      Q1  2018     Condura    1.0hp     Fixed Speed     CSG         2  \n",
       "4      Q1  2018     Condura    1.0hp     Fixed Speed     CSG         2  "
      ]
     },
     "execution_count": 10,
     "metadata": {},
     "output_type": "execute_result"
    }
   ],
   "source": [
    "data.head()"
   ]
  },
  {
   "cell_type": "code",
   "execution_count": 37,
   "metadata": {},
   "outputs": [
    {
     "name": "stderr",
     "output_type": "stream",
     "text": [
      "/Users/xmpuspus/anaconda3/lib/python3.7/site-packages/pandas/core/indexing.py:205: SettingWithCopyWarning: \n",
      "A value is trying to be set on a copy of a slice from a DataFrame\n",
      "\n",
      "See the caveats in the documentation: http://pandas.pydata.org/pandas-docs/stable/user_guide/indexing.html#returning-a-view-versus-a-copy\n",
      "  self._setitem_with_indexer(indexer, value)\n"
     ]
    }
   ],
   "source": [
    "data['UNIT'].loc[data['UNIT'] == 'H-wall'] = 'H-Wall'"
   ]
  },
  {
   "cell_type": "code",
   "execution_count": 41,
   "metadata": {},
   "outputs": [],
   "source": [
    "data.to_csv('data/Sell-Out Data.csv', index=False)"
   ]
  },
  {
   "cell_type": "code",
   "execution_count": 42,
   "metadata": {},
   "outputs": [
    {
     "data": {
      "text/plain": [
       "Wrac      274339\n",
       "H-Wall     66639\n",
       "PE          6546\n",
       "Name: UNIT, dtype: int64"
      ]
     },
     "execution_count": 42,
     "metadata": {},
     "output_type": "execute_result"
    }
   ],
   "source": [
    "pd.read_csv('data/Sell-Out Data.csv')['UNIT'].value_counts()"
   ]
  },
  {
   "cell_type": "code",
   "execution_count": 39,
   "metadata": {},
   "outputs": [
    {
     "data": {
      "text/plain": [
       "(347524, 14)"
      ]
     },
     "execution_count": 39,
     "metadata": {},
     "output_type": "execute_result"
    }
   ],
   "source": [
    "data.shape"
   ]
  },
  {
   "cell_type": "code",
   "execution_count": 12,
   "metadata": {},
   "outputs": [
    {
     "data": {
      "text/plain": [
       "UNIT             object\n",
       "DEALER           object\n",
       "CHANNEL          object\n",
       "SALES CHANNEL    object\n",
       "REGION           object\n",
       "WEEK             object\n",
       "MONTH            object\n",
       "QUARTER          object\n",
       "YEAR              int64\n",
       "BRAND            object\n",
       "CAPACITY         object\n",
       "COMPRESSOR       object\n",
       "COMPANY          object\n",
       "QUANTITY          int64\n",
       "dtype: object"
      ]
     },
     "execution_count": 12,
     "metadata": {},
     "output_type": "execute_result"
    }
   ],
   "source": [
    "data.dtypes"
   ]
  },
  {
   "cell_type": "code",
   "execution_count": 13,
   "metadata": {},
   "outputs": [],
   "source": [
    "# Convert Quantity to numeric\n",
    "data['QUANTITY'] = pd.to_numeric(data['QUANTITY'], errors='coerce')\n",
    "\n",
    "# Drop empty values\n",
    "data.dropna(inplace=True)"
   ]
  },
  {
   "cell_type": "code",
   "execution_count": 14,
   "metadata": {},
   "outputs": [
    {
     "data": {
      "text/plain": [
       "<matplotlib.axes._subplots.AxesSubplot at 0x1105991d0>"
      ]
     },
     "execution_count": 14,
     "metadata": {},
     "output_type": "execute_result"
    },
    {
     "data": {
      "image/png": "[encoded data removed]",
      "text/plain": [
       "<Figure size 432x288 with 1 Axes>"
      ]
     },
     "metadata": {
      "needs_background": "light"
     },
     "output_type": "display_data"
    }
   ],
   "source": [
    "sns.distplot(data.QUANTITY, kde=False)"
   ]
  },
  {
   "cell_type": "code",
   "execution_count": 15,
   "metadata": {},
   "outputs": [
    {
     "data": {
      "text/plain": [
       "count    347524.000000\n",
       "mean          4.588610\n",
       "std          15.963357\n",
       "min           0.000000\n",
       "10%           2.000000\n",
       "20%           2.000000\n",
       "30%           2.000000\n",
       "40%           2.000000\n",
       "50%           2.000000\n",
       "60%           2.000000\n",
       "70%           4.000000\n",
       "80%           4.000000\n",
       "90%           6.000000\n",
       "max        2287.000000\n",
       "Name: QUANTITY, dtype: float64"
      ]
     },
     "execution_count": 15,
     "metadata": {},
     "output_type": "execute_result"
    }
   ],
   "source": [
    "data.QUANTITY.describe(np.arange(0.1, 1, 0.1))"
   ]
  },
  {
   "cell_type": "code",
   "execution_count": 16,
   "metadata": {},
   "outputs": [
    {
     "data": {
      "text/plain": [
       "count    347524.000000\n",
       "mean          4.588610\n",
       "std          15.963357\n",
       "min           0.000000\n",
       "1%            1.000000\n",
       "             ...      \n",
       "96%          15.000000\n",
       "97%          38.000000\n",
       "98%          38.000000\n",
       "99%          38.000000\n",
       "max        2287.000000\n",
       "Name: QUANTITY, Length: 104, dtype: float64"
      ]
     },
     "execution_count": 16,
     "metadata": {},
     "output_type": "execute_result"
    }
   ],
   "source": [
    "data_quantity_quantiles = data.QUANTITY.describe(np.arange(0.01, 1, 0.01))\n",
    "data_quantity_quantiles"
   ]
  },
  {
   "cell_type": "code",
   "execution_count": 17,
   "metadata": {},
   "outputs": [
    {
     "data": {
      "text/plain": [
       "38.0"
      ]
     },
     "execution_count": 17,
     "metadata": {},
     "output_type": "execute_result"
    }
   ],
   "source": [
    "data_quantity_quantiles['99%']"
   ]
  },
  {
   "cell_type": "markdown",
   "metadata": {},
   "source": [
    "### Data Cleaning"
   ]
  },
  {
   "cell_type": "code",
   "execution_count": 18,
   "metadata": {},
   "outputs": [],
   "source": [
    "# Remove 99th percentile\n",
    "new_data = data[(data['QUANTITY'] <= data_quantity_quantiles['99%']) &\n",
    "                (data['QUANTITY'] >= data_quantity_quantiles['1%'])]\n",
    "\n",
    "# Retain non-competitor data\n",
    "new_data = new_data[new_data['COMPANY'] != 'Competitors']"
   ]
  },
  {
   "cell_type": "code",
   "execution_count": 19,
   "metadata": {},
   "outputs": [
    {
     "data": {
      "text/plain": [
       "<matplotlib.axes._subplots.AxesSubplot at 0x1a24e41110>"
      ]
     },
     "execution_count": 19,
     "metadata": {},
     "output_type": "execute_result"
    },
    {
     "data": {
      "image/png": "[encoded data removed]",
      "text/plain": [
       "<Figure size 432x288 with 1 Axes>"
      ]
     },
     "metadata": {
      "needs_background": "light"
     },
     "output_type": "display_data"
    }
   ],
   "source": [
    "sns.distplot(new_data['QUANTITY'], kde=False)"
   ]
  },
  {
   "cell_type": "markdown",
   "metadata": {},
   "source": [
    "### Feature Engineering"
   ]
  },
  {
   "cell_type": "code",
   "execution_count": 20,
   "metadata": {},
   "outputs": [],
   "source": [
    "# Get Features\n",
    "features = new_data.drop(['QUANTITY', 'YEAR', 'WEEK', 'MONTH', 'QUARTER', 'YEAR'], axis=1)\n",
    "\n",
    "# Dummify\n",
    "X = pd.get_dummies(features)\n",
    "\n",
    "# Get Targets\n",
    "y = new_data['QUANTITY']"
   ]
  },
  {
   "cell_type": "code",
   "execution_count": 21,
   "metadata": {},
   "outputs": [
    {
     "data": {
      "text/plain": [
       "((306575, 89), (306575,))"
      ]
     },
     "execution_count": 21,
     "metadata": {},
     "output_type": "execute_result"
    }
   ],
   "source": [
    "X.shape, y.shape"
   ]
  },
  {
   "cell_type": "markdown",
   "metadata": {},
   "source": [
    "### Modelling"
   ]
  },
  {
   "cell_type": "code",
   "execution_count": 22,
   "metadata": {},
   "outputs": [
    {
     "name": "stdout",
     "output_type": "stream",
     "text": [
      "CPU times: user 1min 13s, sys: 398 ms, total: 1min 13s\n",
      "Wall time: 1min 14s\n"
     ]
    },
    {
     "data": {
      "text/plain": [
       "RandomForestRegressor(bootstrap=True, criterion='mse', max_depth=None,\n",
       "                      max_features='auto', max_leaf_nodes=None,\n",
       "                      min_impurity_decrease=0.0, min_impurity_split=None,\n",
       "                      min_samples_leaf=1, min_samples_split=2,\n",
       "                      min_weight_fraction_leaf=0.0, n_estimators=100,\n",
       "                      n_jobs=None, oob_score=False, random_state=42, verbose=0,\n",
       "                      warm_start=False)"
      ]
     },
     "execution_count": 22,
     "metadata": {},
     "output_type": "execute_result"
    }
   ],
   "source": [
    "X_train, X_test, y_train, y_test = train_test_split(X, y, test_size = 0.4, random_state = 42)\n",
    "\n",
    "model = RandomForestRegressor(n_estimators=100, random_state=42)\n",
    "# model = GradientBoostingRegressor(n_estimators=300, random_state=42)\n",
    "\n",
    "# Fit Model\n",
    "%time model.fit(X_train, y_train)"
   ]
  },
  {
   "cell_type": "markdown",
   "metadata": {},
   "source": [
    "### Feature Importances"
   ]
  },
  {
   "cell_type": "code",
   "execution_count": 23,
   "metadata": {},
   "outputs": [
    {
     "data": {
      "image/png": "[encoded data removed]",
      "text/plain": [
       "<Figure size 432x288 with 1 Axes>"
      ]
     },
     "metadata": {
      "needs_background": "light"
     },
     "output_type": "display_data"
    }
   ],
   "source": [
    "feature_importances_df = pd.DataFrame({\"Features\": X.columns,\n",
    "                                       \"Feature Importance\": model.feature_importances_}\n",
    "                                     ).sort_values('Feature Importance', ascending=False).set_index('Features')\n",
    "\n",
    "# Top 20 Features\n",
    "feature_importances_df[:20].plot(kind='barh')\n",
    "plt.gca().invert_yaxis()"
   ]
  },
  {
   "cell_type": "code",
   "execution_count": 38,
   "metadata": {},
   "outputs": [
    {
     "data": {
      "text/plain": [
       "Wrac      0.789410\n",
       "H-Wall    0.191754\n",
       "PE        0.018836\n",
       "Name: UNIT, dtype: float64"
      ]
     },
     "execution_count": 38,
     "metadata": {},
     "output_type": "execute_result"
    }
   ],
   "source": [
    "data.UNIT.value_counts()/data.UNIT.shape[0]"
   ]
  },
  {
   "cell_type": "markdown",
   "metadata": {},
   "source": [
    "### RMSE"
   ]
  },
  {
   "cell_type": "code",
   "execution_count": 25,
   "metadata": {},
   "outputs": [],
   "source": [
    "# Train Predictions\n",
    "y_pred_train = model.predict(X_train).astype(int)\n",
    "\n",
    "# Test Predictions\n",
    "y_pred = model.predict(X_test).astype(int)\n",
    "\n",
    "# Train RMSE\n",
    "rmse_score_train = np.sqrt(mse(y_pred_train, y_train))\n",
    "\n",
    "# Test RMSE\n",
    "rmse_score = np.sqrt(mse(y_pred, y_test))"
   ]
  },
  {
   "cell_type": "code",
   "execution_count": 26,
   "metadata": {},
   "outputs": [
    {
     "data": {
      "text/plain": [
       "(1.4512941076738826, 1.395739138814634)"
      ]
     },
     "execution_count": 26,
     "metadata": {},
     "output_type": "execute_result"
    }
   ],
   "source": [
    "rmse_score, rmse_score_train"
   ]
  },
  {
   "cell_type": "markdown",
   "metadata": {},
   "source": [
    "RMSE is pretty good."
   ]
  },
  {
   "cell_type": "markdown",
   "metadata": {},
   "source": [
    "### Compare Predictions from Actual Price"
   ]
  },
  {
   "cell_type": "code",
   "execution_count": 27,
   "metadata": {},
   "outputs": [],
   "source": [
    "prediction_real_df = pd.DataFrame({\"Real Sales Quantity\": y_test, \"Predicted Sales Quantity\": y_pred})"
   ]
  },
  {
   "cell_type": "code",
   "execution_count": 28,
   "metadata": {},
   "outputs": [
    {
     "data": {
      "text/plain": [
       "<matplotlib.axes._subplots.AxesSubplot at 0x1a291a9e90>"
      ]
     },
     "execution_count": 28,
     "metadata": {},
     "output_type": "execute_result"
    },
    {
     "data": {
      "image/png": "[encoded data removed]",
      "text/plain": [
       "<Figure size 432x288 with 1 Axes>"
      ]
     },
     "metadata": {
      "needs_background": "light"
     },
     "output_type": "display_data"
    }
   ],
   "source": [
    "prediction_real_df.plot.scatter('Real Sales Quantity', 'Predicted Sales Quantity')"
   ]
  },
  {
   "cell_type": "markdown",
   "metadata": {},
   "source": [
    "Predictions are pretty conservative, meaning, they are generally predicting low sale count."
   ]
  },
  {
   "cell_type": "markdown",
   "metadata": {},
   "source": [
    "### Another Metric"
   ]
  },
  {
   "cell_type": "code",
   "execution_count": 29,
   "metadata": {},
   "outputs": [],
   "source": [
    "def mean_absolute_percentage_error(y_true, y_pred): \n",
    "    y_true, y_pred = np.array(y_true), np.array(y_pred)\n",
    "    return np.mean(np.abs((y_true - y_pred) / y_true)) * 100"
   ]
  },
  {
   "cell_type": "code",
   "execution_count": 30,
   "metadata": {},
   "outputs": [
    {
     "data": {
      "text/plain": [
       "5.59882993413348"
      ]
     },
     "execution_count": 30,
     "metadata": {},
     "output_type": "execute_result"
    }
   ],
   "source": [
    "mape = mean_absolute_percentage_error(y_test, y_pred)\n",
    "mape"
   ]
  },
  {
   "cell_type": "markdown",
   "metadata": {},
   "source": [
    "### Save Model"
   ]
  },
  {
   "cell_type": "code",
   "execution_count": 33,
   "metadata": {},
   "outputs": [],
   "source": [
    "import joblib"
   ]
  },
  {
   "cell_type": "code",
   "execution_count": 34,
   "metadata": {},
   "outputs": [
    {
     "data": {
      "text/plain": [
       "['model/cortex_model.sav']"
      ]
     },
     "execution_count": 34,
     "metadata": {},
     "output_type": "execute_result"
    }
   ],
   "source": [
    "joblib.dump(model, 'model/cortex_model.sav')"
   ]
  },
  {
   "cell_type": "code",
   "execution_count": 31,
   "metadata": {},
   "outputs": [
    {
     "data": {
      "text/html": [
       "<div>\n",
       "<style scoped>\n",
       "    .dataframe tbody tr th:only-of-type {\n",
       "        vertical-align: middle;\n",
       "    }\n",
       "\n",
       "    .dataframe tbody tr th {\n",
       "        vertical-align: top;\n",
       "    }\n",
       "\n",
       "    .dataframe thead th {\n",
       "        text-align: right;\n",
       "    }\n",
       "</style>\n",
       "<table border=\"1\" class=\"dataframe\">\n",
       "  <thead>\n",
       "    <tr style=\"text-align: right;\">\n",
       "      <th></th>\n",
       "      <th>UNIT_H-Wall</th>\n",
       "      <th>UNIT_PE</th>\n",
       "      <th>UNIT_Wrac</th>\n",
       "      <th>DEALER_ABENSON</th>\n",
       "      <th>DEALER_ADDESSA CORPORATION</th>\n",
       "      <th>DEALER_ALL HOME</th>\n",
       "      <th>DEALER_ALSON-JAYSON</th>\n",
       "      <th>DEALER_ANSON'S</th>\n",
       "      <th>DEALER_APPLIANCE CENTRUM GROUP</th>\n",
       "      <th>DEALER_ASIAN HOME GROUP</th>\n",
       "      <th>...</th>\n",
       "      <th>CAPACITY_2.5hp</th>\n",
       "      <th>CAPACITY_3.0hp</th>\n",
       "      <th>CAPACITY_3Tons</th>\n",
       "      <th>CAPACITY_4Tons</th>\n",
       "      <th>CAPACITY_5Tons</th>\n",
       "      <th>CAPACITY_7.5Tons</th>\n",
       "      <th>CAPACITY_9Tons</th>\n",
       "      <th>COMPRESSOR_Fixed Speed</th>\n",
       "      <th>COMPRESSOR_Variable Speed</th>\n",
       "      <th>COMPANY_CSG</th>\n",
       "    </tr>\n",
       "  </thead>\n",
       "  <tbody>\n",
       "    <tr>\n",
       "      <td>78939</td>\n",
       "      <td>0</td>\n",
       "      <td>0</td>\n",
       "      <td>1</td>\n",
       "      <td>0</td>\n",
       "      <td>0</td>\n",
       "      <td>0</td>\n",
       "      <td>0</td>\n",
       "      <td>0</td>\n",
       "      <td>0</td>\n",
       "      <td>0</td>\n",
       "      <td>...</td>\n",
       "      <td>0</td>\n",
       "      <td>0</td>\n",
       "      <td>0</td>\n",
       "      <td>0</td>\n",
       "      <td>0</td>\n",
       "      <td>0</td>\n",
       "      <td>0</td>\n",
       "      <td>1</td>\n",
       "      <td>0</td>\n",
       "      <td>1</td>\n",
       "    </tr>\n",
       "    <tr>\n",
       "      <td>130028</td>\n",
       "      <td>0</td>\n",
       "      <td>1</td>\n",
       "      <td>0</td>\n",
       "      <td>0</td>\n",
       "      <td>0</td>\n",
       "      <td>0</td>\n",
       "      <td>0</td>\n",
       "      <td>0</td>\n",
       "      <td>0</td>\n",
       "      <td>0</td>\n",
       "      <td>...</td>\n",
       "      <td>0</td>\n",
       "      <td>0</td>\n",
       "      <td>1</td>\n",
       "      <td>0</td>\n",
       "      <td>0</td>\n",
       "      <td>0</td>\n",
       "      <td>0</td>\n",
       "      <td>1</td>\n",
       "      <td>0</td>\n",
       "      <td>1</td>\n",
       "    </tr>\n",
       "    <tr>\n",
       "      <td>320944</td>\n",
       "      <td>0</td>\n",
       "      <td>0</td>\n",
       "      <td>1</td>\n",
       "      <td>0</td>\n",
       "      <td>0</td>\n",
       "      <td>0</td>\n",
       "      <td>0</td>\n",
       "      <td>0</td>\n",
       "      <td>0</td>\n",
       "      <td>0</td>\n",
       "      <td>...</td>\n",
       "      <td>0</td>\n",
       "      <td>0</td>\n",
       "      <td>0</td>\n",
       "      <td>0</td>\n",
       "      <td>0</td>\n",
       "      <td>0</td>\n",
       "      <td>0</td>\n",
       "      <td>1</td>\n",
       "      <td>0</td>\n",
       "      <td>1</td>\n",
       "    </tr>\n",
       "    <tr>\n",
       "      <td>84427</td>\n",
       "      <td>0</td>\n",
       "      <td>0</td>\n",
       "      <td>1</td>\n",
       "      <td>0</td>\n",
       "      <td>0</td>\n",
       "      <td>0</td>\n",
       "      <td>0</td>\n",
       "      <td>0</td>\n",
       "      <td>0</td>\n",
       "      <td>0</td>\n",
       "      <td>...</td>\n",
       "      <td>0</td>\n",
       "      <td>0</td>\n",
       "      <td>0</td>\n",
       "      <td>0</td>\n",
       "      <td>0</td>\n",
       "      <td>0</td>\n",
       "      <td>0</td>\n",
       "      <td>1</td>\n",
       "      <td>0</td>\n",
       "      <td>1</td>\n",
       "    </tr>\n",
       "    <tr>\n",
       "      <td>283320</td>\n",
       "      <td>0</td>\n",
       "      <td>0</td>\n",
       "      <td>1</td>\n",
       "      <td>0</td>\n",
       "      <td>0</td>\n",
       "      <td>0</td>\n",
       "      <td>0</td>\n",
       "      <td>1</td>\n",
       "      <td>0</td>\n",
       "      <td>0</td>\n",
       "      <td>...</td>\n",
       "      <td>0</td>\n",
       "      <td>0</td>\n",
       "      <td>0</td>\n",
       "      <td>0</td>\n",
       "      <td>0</td>\n",
       "      <td>0</td>\n",
       "      <td>0</td>\n",
       "      <td>0</td>\n",
       "      <td>1</td>\n",
       "      <td>1</td>\n",
       "    </tr>\n",
       "  </tbody>\n",
       "</table>\n",
       "<p>5 rows × 89 columns</p>\n",
       "</div>"
      ],
      "text/plain": [
       "        UNIT_H-Wall  UNIT_PE  UNIT_Wrac  DEALER_ABENSON  \\\n",
       "78939             0        0          1               0   \n",
       "130028            0        1          0               0   \n",
       "320944            0        0          1               0   \n",
       "84427             0        0          1               0   \n",
       "283320            0        0          1               0   \n",
       "\n",
       "        DEALER_ADDESSA CORPORATION  DEALER_ALL HOME  DEALER_ALSON-JAYSON  \\\n",
       "78939                            0                0                    0   \n",
       "130028                           0                0                    0   \n",
       "320944                           0                0                    0   \n",
       "84427                            0                0                    0   \n",
       "283320                           0                0                    0   \n",
       "\n",
       "        DEALER_ANSON'S  DEALER_APPLIANCE CENTRUM GROUP  \\\n",
       "78939                0                               0   \n",
       "130028               0                               0   \n",
       "320944               0                               0   \n",
       "84427                0                               0   \n",
       "283320               1                               0   \n",
       "\n",
       "        DEALER_ASIAN HOME GROUP  ...  CAPACITY_2.5hp  CAPACITY_3.0hp  \\\n",
       "78939                         0  ...               0               0   \n",
       "130028                        0  ...               0               0   \n",
       "320944                        0  ...               0               0   \n",
       "84427                         0  ...               0               0   \n",
       "283320                        0  ...               0               0   \n",
       "\n",
       "        CAPACITY_3Tons  CAPACITY_4Tons  CAPACITY_5Tons  CAPACITY_7.5Tons  \\\n",
       "78939                0               0               0                 0   \n",
       "130028               1               0               0                 0   \n",
       "320944               0               0               0                 0   \n",
       "84427                0               0               0                 0   \n",
       "283320               0               0               0                 0   \n",
       "\n",
       "        CAPACITY_9Tons  COMPRESSOR_Fixed Speed  COMPRESSOR_Variable Speed  \\\n",
       "78939                0                       1                          0   \n",
       "130028               0                       1                          0   \n",
       "320944               0                       1                          0   \n",
       "84427                0                       1                          0   \n",
       "283320               0                       0                          1   \n",
       "\n",
       "        COMPANY_CSG  \n",
       "78939             1  \n",
       "130028            1  \n",
       "320944            1  \n",
       "84427             1  \n",
       "283320            1  \n",
       "\n",
       "[5 rows x 89 columns]"
      ]
     },
     "execution_count": 31,
     "metadata": {},
     "output_type": "execute_result"
    }
   ],
   "source": [
    "X_train.head()"
   ]
  },
  {
   "cell_type": "code",
   "execution_count": 32,
   "metadata": {},
   "outputs": [
    {
     "data": {
      "text/html": [
       "<div>\n",
       "<style scoped>\n",
       "    .dataframe tbody tr th:only-of-type {\n",
       "        vertical-align: middle;\n",
       "    }\n",
       "\n",
       "    .dataframe tbody tr th {\n",
       "        vertical-align: top;\n",
       "    }\n",
       "\n",
       "    .dataframe thead th {\n",
       "        text-align: right;\n",
       "    }\n",
       "</style>\n",
       "<table border=\"1\" class=\"dataframe\">\n",
       "  <thead>\n",
       "    <tr style=\"text-align: right;\">\n",
       "      <th></th>\n",
       "      <th>UNIT</th>\n",
       "      <th>DEALER</th>\n",
       "      <th>CHANNEL</th>\n",
       "      <th>SALES CHANNEL</th>\n",
       "      <th>REGION</th>\n",
       "      <th>BRAND</th>\n",
       "      <th>CAPACITY</th>\n",
       "      <th>COMPRESSOR</th>\n",
       "      <th>COMPANY</th>\n",
       "    </tr>\n",
       "  </thead>\n",
       "  <tbody>\n",
       "    <tr>\n",
       "      <td>0</td>\n",
       "      <td>H-Wall</td>\n",
       "      <td>ABENSON</td>\n",
       "      <td>Modern Trade</td>\n",
       "      <td>Modern Trade</td>\n",
       "      <td>VISAYAS</td>\n",
       "      <td>Carrier</td>\n",
       "      <td>2.0hp</td>\n",
       "      <td>Variable Speed</td>\n",
       "      <td>CSG</td>\n",
       "    </tr>\n",
       "    <tr>\n",
       "      <td>1</td>\n",
       "      <td>Wrac</td>\n",
       "      <td>ABENSON</td>\n",
       "      <td>Modern Trade</td>\n",
       "      <td>Modern Trade</td>\n",
       "      <td>VISAYAS</td>\n",
       "      <td>Kelvinator</td>\n",
       "      <td>1.0hp</td>\n",
       "      <td>Fixed Speed</td>\n",
       "      <td>CSG</td>\n",
       "    </tr>\n",
       "    <tr>\n",
       "      <td>2</td>\n",
       "      <td>Wrac</td>\n",
       "      <td>ABENSON</td>\n",
       "      <td>Modern Trade</td>\n",
       "      <td>Modern Trade</td>\n",
       "      <td>VISAYAS</td>\n",
       "      <td>Condura</td>\n",
       "      <td>1.0hp</td>\n",
       "      <td>Variable Speed</td>\n",
       "      <td>CSG</td>\n",
       "    </tr>\n",
       "    <tr>\n",
       "      <td>3</td>\n",
       "      <td>Wrac</td>\n",
       "      <td>ABENSON</td>\n",
       "      <td>Modern Trade</td>\n",
       "      <td>Modern Trade</td>\n",
       "      <td>VISAYAS</td>\n",
       "      <td>Condura</td>\n",
       "      <td>1.0hp</td>\n",
       "      <td>Fixed Speed</td>\n",
       "      <td>CSG</td>\n",
       "    </tr>\n",
       "    <tr>\n",
       "      <td>4</td>\n",
       "      <td>Wrac</td>\n",
       "      <td>ABENSON</td>\n",
       "      <td>Modern Trade</td>\n",
       "      <td>Modern Trade</td>\n",
       "      <td>VISAYAS</td>\n",
       "      <td>Condura</td>\n",
       "      <td>1.0hp</td>\n",
       "      <td>Fixed Speed</td>\n",
       "      <td>CSG</td>\n",
       "    </tr>\n",
       "    <tr>\n",
       "      <td>...</td>\n",
       "      <td>...</td>\n",
       "      <td>...</td>\n",
       "      <td>...</td>\n",
       "      <td>...</td>\n",
       "      <td>...</td>\n",
       "      <td>...</td>\n",
       "      <td>...</td>\n",
       "      <td>...</td>\n",
       "      <td>...</td>\n",
       "    </tr>\n",
       "    <tr>\n",
       "      <td>347519</td>\n",
       "      <td>Wrac</td>\n",
       "      <td>IMPERIAL APPLIANCE</td>\n",
       "      <td>Traditional</td>\n",
       "      <td>VIS</td>\n",
       "      <td>SOUTH LUZON</td>\n",
       "      <td>Carrier</td>\n",
       "      <td>0.5hp</td>\n",
       "      <td>Fixed Speed</td>\n",
       "      <td>CSG</td>\n",
       "    </tr>\n",
       "    <tr>\n",
       "      <td>347520</td>\n",
       "      <td>Wrac</td>\n",
       "      <td>IMPERIAL APPLIANCE</td>\n",
       "      <td>Traditional</td>\n",
       "      <td>VIS</td>\n",
       "      <td>SOUTH LUZON</td>\n",
       "      <td>Carrier</td>\n",
       "      <td>1.0hp</td>\n",
       "      <td>Fixed Speed</td>\n",
       "      <td>CSG</td>\n",
       "    </tr>\n",
       "    <tr>\n",
       "      <td>347521</td>\n",
       "      <td>Wrac</td>\n",
       "      <td>IMPERIAL APPLIANCE</td>\n",
       "      <td>Traditional</td>\n",
       "      <td>VIS</td>\n",
       "      <td>SOUTH LUZON</td>\n",
       "      <td>Carrier</td>\n",
       "      <td>1.0hp</td>\n",
       "      <td>Fixed Speed</td>\n",
       "      <td>CSG</td>\n",
       "    </tr>\n",
       "    <tr>\n",
       "      <td>347522</td>\n",
       "      <td>Wrac</td>\n",
       "      <td>IMPERIAL APPLIANCE</td>\n",
       "      <td>Traditional</td>\n",
       "      <td>VIS</td>\n",
       "      <td>SOUTH LUZON</td>\n",
       "      <td>Carrier</td>\n",
       "      <td>1.0hp</td>\n",
       "      <td>Fixed Speed</td>\n",
       "      <td>CSG</td>\n",
       "    </tr>\n",
       "    <tr>\n",
       "      <td>347523</td>\n",
       "      <td>H-Wall</td>\n",
       "      <td>STAR APPLIANCE</td>\n",
       "      <td>Modern Trade</td>\n",
       "      <td>Modern Trade</td>\n",
       "      <td>GMA</td>\n",
       "      <td>Carrier</td>\n",
       "      <td>1.5hp</td>\n",
       "      <td>Fixed Speed</td>\n",
       "      <td>CSG</td>\n",
       "    </tr>\n",
       "  </tbody>\n",
       "</table>\n",
       "<p>306575 rows × 9 columns</p>\n",
       "</div>"
      ],
      "text/plain": [
       "          UNIT              DEALER       CHANNEL SALES CHANNEL        REGION  \\\n",
       "0       H-Wall             ABENSON  Modern Trade  Modern Trade       VISAYAS   \n",
       "1         Wrac             ABENSON  Modern Trade  Modern Trade       VISAYAS   \n",
       "2         Wrac             ABENSON  Modern Trade  Modern Trade       VISAYAS   \n",
       "3         Wrac             ABENSON  Modern Trade  Modern Trade       VISAYAS   \n",
       "4         Wrac             ABENSON  Modern Trade  Modern Trade       VISAYAS   \n",
       "...        ...                 ...           ...           ...           ...   \n",
       "347519    Wrac  IMPERIAL APPLIANCE   Traditional           VIS  SOUTH LUZON    \n",
       "347520    Wrac  IMPERIAL APPLIANCE   Traditional           VIS  SOUTH LUZON    \n",
       "347521    Wrac  IMPERIAL APPLIANCE   Traditional           VIS  SOUTH LUZON    \n",
       "347522    Wrac  IMPERIAL APPLIANCE   Traditional           VIS  SOUTH LUZON    \n",
       "347523  H-Wall     STAR APPLIANCE   Modern Trade  Modern Trade           GMA   \n",
       "\n",
       "             BRAND CAPACITY      COMPRESSOR COMPANY  \n",
       "0          Carrier    2.0hp  Variable Speed     CSG  \n",
       "1       Kelvinator    1.0hp     Fixed Speed     CSG  \n",
       "2          Condura    1.0hp  Variable Speed     CSG  \n",
       "3          Condura    1.0hp     Fixed Speed     CSG  \n",
       "4          Condura    1.0hp     Fixed Speed     CSG  \n",
       "...            ...      ...             ...     ...  \n",
       "347519     Carrier    0.5hp     Fixed Speed     CSG  \n",
       "347520     Carrier    1.0hp     Fixed Speed     CSG  \n",
       "347521     Carrier    1.0hp     Fixed Speed     CSG  \n",
       "347522     Carrier    1.0hp     Fixed Speed     CSG  \n",
       "347523     Carrier    1.5hp     Fixed Speed     CSG  \n",
       "\n",
       "[306575 rows x 9 columns]"
      ]
     },
     "execution_count": 32,
     "metadata": {},
     "output_type": "execute_result"
    }
   ],
   "source": [
    "features"
   ]
  },
  {
   "cell_type": "code",
   "execution_count": 45,
   "metadata": {},
   "outputs": [],
   "source": [
    "# Education Level\n",
    "unit_values = pd.Series(data['UNIT'].unique()).str.strip()\n",
    "unit_dummies = pd.get_dummies(unit_values)\n",
    "\n",
    "# unit_sample = st.sidebar.selectbox(\"AC Unit\", unit_values.values.tolist())\n",
    "\n",
    "unit_sample_dummies = (unit_dummies.loc[np.where(unit_values.values == 'H-Wall')[0]]\n",
    "                                  .values.tolist()[0])"
   ]
  },
  {
   "cell_type": "code",
   "execution_count": 43,
   "metadata": {},
   "outputs": [
    {
     "data": {
      "text/html": [
       "<div>\n",
       "<style scoped>\n",
       "    .dataframe tbody tr th:only-of-type {\n",
       "        vertical-align: middle;\n",
       "    }\n",
       "\n",
       "    .dataframe tbody tr th {\n",
       "        vertical-align: top;\n",
       "    }\n",
       "\n",
       "    .dataframe thead th {\n",
       "        text-align: right;\n",
       "    }\n",
       "</style>\n",
       "<table border=\"1\" class=\"dataframe\">\n",
       "  <thead>\n",
       "    <tr style=\"text-align: right;\">\n",
       "      <th></th>\n",
       "      <th>H-Wall</th>\n",
       "      <th>H-wall</th>\n",
       "      <th>PE</th>\n",
       "      <th>Wrac</th>\n",
       "    </tr>\n",
       "  </thead>\n",
       "  <tbody>\n",
       "    <tr>\n",
       "      <td>0</td>\n",
       "      <td>1</td>\n",
       "      <td>0</td>\n",
       "      <td>0</td>\n",
       "      <td>0</td>\n",
       "    </tr>\n",
       "    <tr>\n",
       "      <td>1</td>\n",
       "      <td>0</td>\n",
       "      <td>0</td>\n",
       "      <td>0</td>\n",
       "      <td>1</td>\n",
       "    </tr>\n",
       "    <tr>\n",
       "      <td>2</td>\n",
       "      <td>0</td>\n",
       "      <td>0</td>\n",
       "      <td>1</td>\n",
       "      <td>0</td>\n",
       "    </tr>\n",
       "    <tr>\n",
       "      <td>3</td>\n",
       "      <td>0</td>\n",
       "      <td>1</td>\n",
       "      <td>0</td>\n",
       "      <td>0</td>\n",
       "    </tr>\n",
       "  </tbody>\n",
       "</table>\n",
       "</div>"
      ],
      "text/plain": [
       "   H-Wall  H-wall  PE  Wrac\n",
       "0       1       0   0     0\n",
       "1       0       0   0     1\n",
       "2       0       0   1     0\n",
       "3       0       1   0     0"
      ]
     },
     "execution_count": 43,
     "metadata": {},
     "output_type": "execute_result"
    }
   ],
   "source": [
    "unit_dummies"
   ]
  },
  {
   "cell_type": "code",
   "execution_count": 47,
   "metadata": {},
   "outputs": [
    {
     "data": {
      "text/plain": [
       "[1, 0, 0, 1, 0, 0]"
      ]
     },
     "execution_count": 47,
     "metadata": {},
     "output_type": "execute_result"
    }
   ],
   "source": [
    "unit_sample_dummies + unit_sample_dummies"
   ]
  },
  {
   "cell_type": "code",
   "execution_count": null,
   "metadata": {},
   "outputs": [],
   "source": []
  }
 ],
 "metadata": {
  "kernelspec": {
   "display_name": "Python 3",
   "language": "python",
   "name": "python3"
  },
  "language_info": {
   "codemirror_mode": {
    "name": "ipython",
    "version": 3
   },
   "file_extension": ".py",
   "mimetype": "text/x-python",
   "name": "python",
   "nbconvert_exporter": "python",
   "pygments_lexer": "ipython3",
   "version": "3.7.4"
  }
 },
 "nbformat": 4,
 "nbformat_minor": 4
}
